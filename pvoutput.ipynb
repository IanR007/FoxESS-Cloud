{
 "cells": [
  {
   "cell_type": "code",
   "execution_count": 3,
   "id": "f23f3e7c-9f30-4aea-a4bb-bdfbf524a959",
   "metadata": {},
   "outputs": [],
   "source": [
    "# create private.py from the template and enter your credentials for Fox ESS Cloud and PV Output\n",
    "\n",
    "!pip install random-user-agent --quiet --root-user-action=ignore\n",
    "import foxess as f\n",
    "import private as my\n",
    "f.debug_setting = 1\n",
    "\n",
    "# setup your Fox ESS Cloud username and password here if you have not added them to private.py\n",
    "f.username = my.username\n",
    "f.password = my.password\n",
    "f.api_key = my.api_key\n",
    "f.system_id = my.system_id"
   ]
  },
  {
   "cell_type": "code",
   "execution_count": 5,
   "id": "8f7aa1ff-c328-43f2-bb5b-1dff9cf4e880",
   "metadata": {},
   "outputs": [
    {
     "data": {
      "text/plain": [
       "{'deviceID': 'dcd0712d-3434-40db-9323-933288bc5964',\n",
       " 'deviceSN': '65BH602026EB004',\n",
       " 'moduleSN': '669L3EPF22WA061',\n",
       " 'plantName': '89 Okebourne Park',\n",
       " 'deviceType': 'H1-6.0-E',\n",
       " 'country': 'United Kingdom',\n",
       " 'countryCode': '',\n",
       " 'feedinDate': '2023-01-10 15:09:35 GMT+0000',\n",
       " 'status': 1,\n",
       " 'power': 3.814,\n",
       " 'generationToday': 11.900000000000091,\n",
       " 'generationTotal': 3891.6,\n",
       " 'productType': 'H',\n",
       " 'flowType': 2,\n",
       " 'hasBattery': True,\n",
       " 'hasPV': True,\n",
       " 'dataLatestUploadDate': '2023-08-15 17:28:39 BST+0100',\n",
       " 'hasWifiMeter': False,\n",
       " 'inParallel': 0,\n",
       " 'wifiMeterID': '',\n",
       " 'wifiMeterSN': '',\n",
       " 'atFlag': False}"
      ]
     },
     "execution_count": 5,
     "metadata": {},
     "output_type": "execute_result"
    }
   ],
   "source": [
    "f.get_device(sn=None)"
   ]
  },
  {
   "cell_type": "code",
   "execution_count": 6,
   "id": "a2c0f388-e598-40e3-8b3e-85a34a1dc1c8",
   "metadata": {},
   "outputs": [
    {
     "name": "stdout",
     "output_type": "stream",
     "text": [
      "Date range from 2023-01-17 to 2023-01-26 has 10 days\n",
      "20230117,4282,,,,,,,,354,0,8556,0,15064,20,0,2,0\n",
      "20230118,5956,,,,,,,,41,2460,11350,0,17756,22,0,82,0\n",
      "20230119,6823,,,,,,,,831,3034,12108,0,21450,1,0,53,0\n",
      "20230120,8063,,,,,,,,1386,1454,8950,0,18943,5,0,34,0\n",
      "20230121,3054,,,,,,,,3451,3336,12890,0,22036,0,0,22,0\n",
      "20230122,3997,,,,,,,,2758,3475,12919,0,22281,0,0,35,0\n",
      "20230123,8573,,,,,,,,39,2697,14383,0,24519,22,0,70,0\n",
      "20230124,8764,,,,,,,,608,3663,15311,0,26725,4,0,50,0\n",
      "20230125,2029,,,,,,,,2457,1843,13247,0,18129,0,0,1,0\n",
      "20230126,4135,,,,,,,,1262,1193,7006,0,12724,1,0,16,0\n"
     ]
    }
   ],
   "source": [
    "# Get CSV upload data for pvoutput for a range of dates.\n",
    "# Data format matches api document: https://pvoutput.org/help/api_specification.html#csv-data-parameter\n",
    "# tou=0 disables time of use calculations. By default, tou=1 uploads data using Octopus Flux peak / off-peak time periods\n",
    "# limit sets the maximum number of days with a default of 200.\n",
    "\n",
    "start_date = '2023-01-17'\n",
    "end_date = None\n",
    "for d in f.date_list(start_date, end_date, limit=10):\n",
    "    print(f.get_pvoutput(d, tou=1))"
   ]
  },
  {
   "cell_type": "code",
   "execution_count": null,
   "id": "b1a748bd-c9c8-4977-b912-0eb7dc91d810",
   "metadata": {},
   "outputs": [],
   "source": [
    "# Get CSV data and upload directly to pvoutput.org for a date\n",
    "# d='YYYY-MM-DD' sets the date. The default is yesterday\n",
    "# tou=0 disables time of use calculations. By default, tou=1 uploads data using Octopus Flux peak / off-peak time periods\n",
    "# id=nnnn specifies the system id to use if you have more than 1 registered system\n",
    "# The API is rate limited and will reject uploads after a number of calls.\n",
    "# A web site response code 200 means the upload was successful\n",
    "\n",
    "f.set_pvoutput(tou=1)"
   ]
  },
  {
   "cell_type": "code",
   "execution_count": null,
   "id": "323ef961-894a-41da-98cb-6c0637cc4cf4",
   "metadata": {},
   "outputs": [],
   "source": []
  }
 ],
 "metadata": {
  "kernelspec": {
   "display_name": "Python 3 (ipykernel)",
   "language": "python",
   "name": "python3"
  },
  "language_info": {
   "codemirror_mode": {
    "name": "ipython",
    "version": 3
   },
   "file_extension": ".py",
   "mimetype": "text/x-python",
   "name": "python",
   "nbconvert_exporter": "python",
   "pygments_lexer": "ipython3",
   "version": "3.9.2"
  }
 },
 "nbformat": 4,
 "nbformat_minor": 5
}
