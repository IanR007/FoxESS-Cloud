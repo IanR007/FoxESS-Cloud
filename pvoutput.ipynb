{
 "cells": [
  {
   "cell_type": "code",
   "execution_count": 1,
   "id": "94ddd915-40e1-4306-8823-c7fc29615588",
   "metadata": {},
   "outputs": [],
   "source": [
    "import foxess as f\n",
    "f.debug_setting = 1"
   ]
  },
  {
   "cell_type": "code",
   "execution_count": 2,
   "id": "f329e700-2a8c-4182-9dde-b4c592e02243",
   "metadata": {},
   "outputs": [
    {
     "name": "stdout",
     "output_type": "stream",
     "text": [
      "20230801,27515,,,,,,,,7,4,84,0,14078,1734,3,10627,0\n",
      "20230802,17137,,,,,,,,2,4,193,0,11916,2385,5,1377,0\n",
      "20230803,19492,,,,,,,,84,6,183,0,14814,506,2,2350,0\n"
     ]
    }
   ],
   "source": [
    "# Get CSV upload data for pvoutput for a range of dates.\n",
    "# Data format matches api document: https://pvoutput.org/help/api_specification.html#csv-data-parameter\n",
    "# tou=1 uploads data using Octopus Flux peak / off-peak time periods\n",
    "# Max upload is 200 days.\n",
    "\n",
    "for d in f.date_list('2023-08-01', '2023-08-03'):\n",
    "    print(f.get_pvoutput(d, tou=1))"
   ]
  },
  {
   "cell_type": "code",
   "execution_count": 3,
   "id": "b1a748bd-c9c8-4977-b912-0eb7dc91d810",
   "metadata": {},
   "outputs": [
    {
     "name": "stdout",
     "output_type": "stream",
     "text": [
      "20230801,27515,,,,,,,,7,4,84,0,14078,1734,3,10627,0\n",
      "20230802,17137,,,,,,,,2,4,193,0,11916,2385,5,1377,0\n",
      "20230803,19492,,,,,,,,84,6,183,0,14814,506,2,2350,0\n"
     ]
    }
   ],
   "source": [
    "# Get CSV data and upload directly to pvoutput.org for a range of dates.\n",
    "# tou=1 uploads data using Octopus Flux peak / off-peak time periods\n",
    "# API is rate limited and will reject uploads after a number of calls.\n",
    "\n",
    "for d in f.date_list('2023-08-01', '2023-08-03'):\n",
    "    if f.set_pvoutput(d, tou=1) != 200:\n",
    "        break"
   ]
  },
  {
   "cell_type": "code",
   "execution_count": null,
   "id": "323ef961-894a-41da-98cb-6c0637cc4cf4",
   "metadata": {},
   "outputs": [],
   "source": []
  }
 ],
 "metadata": {
  "kernelspec": {
   "display_name": "Python 3 (ipykernel)",
   "language": "python",
   "name": "python3"
  },
  "language_info": {
   "codemirror_mode": {
    "name": "ipython",
    "version": 3
   },
   "file_extension": ".py",
   "mimetype": "text/x-python",
   "name": "python",
   "nbconvert_exporter": "python",
   "pygments_lexer": "ipython3",
   "version": "3.9.2"
  }
 },
 "nbformat": 4,
 "nbformat_minor": 5
}
