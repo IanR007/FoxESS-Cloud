{
 "cells": [
  {
   "cell_type": "code",
   "execution_count": 1,
   "id": "94ddd915-40e1-4306-8823-c7fc29615588",
   "metadata": {},
   "outputs": [],
   "source": [
    "# create private.py from the template and enter your credentials for Fox ESS Cloud and PV Output\n",
    "\n",
    "import foxess as f\n",
    "f.debug_setting = 1\n",
    "\n",
    "# uncomment and add your Fox ESS Cloud username and password here if you have not added them to private.py\n",
    "# f.username = '<username>'\n",
    "# f.password = '<password>'\n",
    "# f.api_key = '<api key>'\n",
    "# f.system_id = None"
   ]
  },
  {
   "cell_type": "code",
   "execution_count": 2,
   "id": "f329e700-2a8c-4182-9dde-b4c592e02243",
   "metadata": {},
   "outputs": [
    {
     "name": "stdout",
     "output_type": "stream",
     "text": [
      "20230117,4282,,,,,,,,354,0,8556,0,15064,20,0,2,0\n",
      "20230118,5956,,,,,,,,41,2460,11350,0,17756,22,0,82,0\n",
      "20230119,6823,,,,,,,,831,3034,12108,0,21450,1,0,53,0\n",
      "20230120,8063,,,,,,,,1386,1454,8950,0,18943,5,0,34,0\n",
      "20230121,3054,,,,,,,,3451,3336,12890,0,22036,0,0,22,0\n",
      "20230122,3997,,,,,,,,2758,3475,12919,0,22281,0,0,35,0\n",
      "20230123,8573,,,,,,,,39,2697,14383,0,24519,22,0,70,0\n",
      "20230124,8764,,,,,,,,608,3663,15311,0,26725,4,0,50,0\n",
      "20230125,2029,,,,,,,,2457,1843,13247,0,18129,0,0,1,0\n",
      "20230126,4135,,,,,,,,1262,1193,7006,0,12724,1,0,16,0\n",
      "20230127,2879,,,,,,,,2648,1558,8828,0,14250,0,0,27,0\n",
      "20230128,2378,,,,,,,,276,9407,4360,0,14625,1,0,5,0\n",
      "20230129,2411,,,,,,,,1631,1201,9099,0,13418,0,0,0,0\n",
      "20230130,5596,,,,,,,,32,1329,11121,0,16187,0,0,77,0\n",
      "20230131,6285,,,,,,,,535,1425,6857,0,13574,96,0,9,0\n",
      "20230201,5195,,,,,,,,684,1392,9495,0,15920,24,0,3,0\n",
      "20230202,4138,,,,,,,,1867,670,6826,0,12413,0,0,8,0\n",
      "20230203,4799,,,,,,,,1359,835,5556,0,11302,6,0,10,0\n",
      "20230204,1318,,,,,,,,3363,838,6356,0,10562,0,0,0,0\n",
      "20230205,9125,,,,,,,,260,927,4861,0,13518,40,0,35,0\n",
      "20230206,11744,,,,,,,,55,2217,5373,0,18497,62,0,61,0\n"
     ]
    }
   ],
   "source": [
    "# Get CSV upload data for pvoutput for a range of dates.\n",
    "# Data format matches api document: https://pvoutput.org/help/api_specification.html#csv-data-parameter\n",
    "# tou=1 uploads data using Octopus Flux peak / off-peak time periods\n",
    "# Max upload is 200 days.\n",
    "start_date = '2023-01-17'\n",
    "end_date = None\n",
    "for d in f.date_list(start_date, end_date):\n",
    "    print(f.get_pvoutput(d, tou=1))"
   ]
  },
  {
   "cell_type": "code",
   "execution_count": 3,
   "id": "b1a748bd-c9c8-4977-b912-0eb7dc91d810",
   "metadata": {},
   "outputs": [
    {
     "name": "stdout",
     "output_type": "stream",
     "text": [
      "20230814,16874,,,,,,,,39,6,135,0,15262,2742,1,110,0\n"
     ]
    },
    {
     "data": {
      "text/plain": [
       "200"
      ]
     },
     "execution_count": 3,
     "metadata": {},
     "output_type": "execute_result"
    }
   ],
   "source": [
    "# Get CSV data and upload directly to pvoutput.org for a date\n",
    "# d='YYYY-MM-DD' sets the date. The default is yesterday\n",
    "# tou=1 uploads data using Octopus Flux peak / off-peak time periods\n",
    "# id=nnnn specifies the system id to use if you have more than 1 registered system\n",
    "# API is rate limited and will reject uploads after a number of calls.\n",
    "\n",
    "f.set_pvoutput()"
   ]
  },
  {
   "cell_type": "code",
   "execution_count": null,
   "id": "323ef961-894a-41da-98cb-6c0637cc4cf4",
   "metadata": {},
   "outputs": [],
   "source": []
  }
 ],
 "metadata": {
  "kernelspec": {
   "display_name": "Python 3 (ipykernel)",
   "language": "python",
   "name": "python3"
  },
  "language_info": {
   "codemirror_mode": {
    "name": "ipython",
    "version": 3
   },
   "file_extension": ".py",
   "mimetype": "text/x-python",
   "name": "python",
   "nbconvert_exporter": "python",
   "pygments_lexer": "ipython3",
   "version": "3.9.2"
  }
 },
 "nbformat": 4,
 "nbformat_minor": 5
}
