{
 "cells": [
  {
   "cell_type": "code",
   "execution_count": null,
   "id": "c68b6d40-d4fe-4382-ba26-95916ba71986",
   "metadata": {},
   "outputs": [],
   "source": [
    "import foxess as f\n",
    "f.get_device()"
   ]
  },
  {
   "cell_type": "code",
   "execution_count": null,
   "id": "4d876fac-42c7-4f1f-baa7-ff8563bf07cc",
   "metadata": {},
   "outputs": [],
   "source": [
    "f.put_pvoutput(d='20230806', g=30600, e=12400, c=14300, i=200)"
   ]
  }
 ],
 "metadata": {
  "kernelspec": {
   "display_name": "Python 3 (ipykernel)",
   "language": "python",
   "name": "python3"
  },
  "language_info": {
   "codemirror_mode": {
    "name": "ipython",
    "version": 3
   },
   "file_extension": ".py",
   "mimetype": "text/x-python",
   "name": "python",
   "nbconvert_exporter": "python",
   "pygments_lexer": "ipython3",
   "version": "3.9.2"
  }
 },
 "nbformat": 4,
 "nbformat_minor": 5
}
