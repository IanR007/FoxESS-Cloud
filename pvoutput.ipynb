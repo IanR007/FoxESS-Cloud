{
 "cells": [
  {
   "cell_type": "code",
   "execution_count": 2,
   "id": "f23f3e7c-9f30-4aea-a4bb-bdfbf524a959",
   "metadata": {},
   "outputs": [],
   "source": [
    "# create private.py from the template and enter your credentials for Fox ESS Cloud and PV Output\n",
    "\n",
    "!pip install random-user-agent --quiet --root-user-action=ignore\n",
    "import foxess as f\n",
    "import private as my\n",
    "f.debug_setting = 1\n",
    "\n",
    "# setup your Fox ESS Cloud username and password here if you have not added them to private.py\n",
    "f.username = my.username\n",
    "f.password = my.password\n",
    "f.api_key = my.api_key\n",
    "f.system_id = my.system_id"
   ]
  },
  {
   "cell_type": "code",
   "execution_count": null,
   "id": "f329e700-2a8c-4182-9dde-b4c592e02243",
   "metadata": {},
   "outputs": [],
   "source": [
    "# Get CSV upload data for pvoutput for a range of dates.\n",
    "# Data format matches api document: https://pvoutput.org/help/api_specification.html#csv-data-parameter\n",
    "# tou=0 disables time of use calculations. By default, tou=1 uploads data using Octopus Flux peak / off-peak time periods\n",
    "# limit sets the maximum number of days with a default of 200.\n",
    "\n",
    "start_date = '2023-01-17'\n",
    "end_date = None\n",
    "for d in f.date_list(start_date, end_date, limit=10):\n",
    "    print(f.get_pvoutput(d, tou=1))"
   ]
  },
  {
   "cell_type": "code",
   "execution_count": null,
   "id": "b1a748bd-c9c8-4977-b912-0eb7dc91d810",
   "metadata": {},
   "outputs": [],
   "source": [
    "# Get CSV data and upload directly to pvoutput.org for a date\n",
    "# d='YYYY-MM-DD' sets the date. The default is yesterday\n",
    "# tou=0 disables time of use calculations. By default, tou=1 uploads data using Octopus Flux peak / off-peak time periods\n",
    "# id=nnnn specifies the system id to use if you have more than 1 registered system\n",
    "# The API is rate limited and will reject uploads after a number of calls.\n",
    "# A web site response code 200 means the upload was successful\n",
    "\n",
    "f.set_pvoutput(tou=1)"
   ]
  },
  {
   "cell_type": "code",
   "execution_count": null,
   "id": "323ef961-894a-41da-98cb-6c0637cc4cf4",
   "metadata": {},
   "outputs": [],
   "source": []
  }
 ],
 "metadata": {
  "kernelspec": {
   "display_name": "Python 3 (ipykernel)",
   "language": "python",
   "name": "python3"
  },
  "language_info": {
   "codemirror_mode": {
    "name": "ipython",
    "version": 3
   },
   "file_extension": ".py",
   "mimetype": "text/x-python",
   "name": "python",
   "nbconvert_exporter": "python",
   "pygments_lexer": "ipython3",
   "version": "3.9.2"
  }
 },
 "nbformat": 4,
 "nbformat_minor": 5
}
