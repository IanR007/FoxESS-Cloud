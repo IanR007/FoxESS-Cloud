{
 "cells": [
  {
   "cell_type": "code",
   "execution_count": 1,
   "id": "c68b6d40-d4fe-4382-ba26-95916ba71986",
   "metadata": {},
   "outputs": [],
   "source": [
    "import foxess as f"
   ]
  },
  {
   "cell_type": "code",
   "execution_count": 7,
   "id": "d95a4189-b285-4d85-a660-abb57720ab5f",
   "metadata": {},
   "outputs": [],
   "source": [
    "f.debug_setting = 1\n",
    "d = '2023-07-31 00:00:00'\n",
    "result=f.get_raw('day', d=d, v=f.pvoutput_vars, transform=2)\n"
   ]
  },
  {
   "cell_type": "code",
   "execution_count": 9,
   "id": "d031f84c-335c-4e6f-be01-b604b24a9938",
   "metadata": {},
   "outputs": [
    {
     "name": "stdout",
     "output_type": "stream",
     "text": [
      "CSV upload data: ['gen', 'exp', 'con', 'imp']\n",
      "2023-08-01,27.5,12.4,14.1,0.1\n",
      "2023-08-02,17.1,3.8,11.9,0.2\n",
      "2023-08-03,19.5,2.9,14.8,0.3\n",
      "2023-08-04,18.0,5.4,11.6,0.1\n",
      "2023-08-05,8.0,0.2,14.5,4.9\n",
      "2023-08-06,29.2,12.0,15.0,0.6\n",
      "2023-08-07,30.3,11.4,17.4,0.4\n",
      "2023-08-08,10.6,0.4,13.2,4.0\n",
      "2023-08-09,28.4,8.6,14.3,0.2\n",
      "2023-08-10,27.6,12.9,16.4,0.1\n",
      "2023-08-11,28.7,11.3,15.0,0.3\n",
      "2023-08-12,20.2,7.1,11.3,0.1\n"
     ]
    }
   ],
   "source": [
    "f.get_pvoutput(f.date_list('2023-08-01','2023-08-13'))"
   ]
  },
  {
   "cell_type": "code",
   "execution_count": null,
   "id": "30958cef-2941-457d-bab5-dd2245121025",
   "metadata": {},
   "outputs": [],
   "source": []
  }
 ],
 "metadata": {
  "kernelspec": {
   "display_name": "Python 3 (ipykernel)",
   "language": "python",
   "name": "python3"
  },
  "language_info": {
   "codemirror_mode": {
    "name": "ipython",
    "version": 3
   },
   "file_extension": ".py",
   "mimetype": "text/x-python",
   "name": "python",
   "nbconvert_exporter": "python",
   "pygments_lexer": "ipython3",
   "version": "3.9.2"
  }
 },
 "nbformat": 4,
 "nbformat_minor": 5
}
