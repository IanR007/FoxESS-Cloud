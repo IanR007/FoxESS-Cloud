{
 "cells": [
  {
   "cell_type": "code",
   "execution_count": 1,
   "metadata": {},
   "outputs": [
    {
     "name": "stdout",
     "output_type": "stream",
     "text": [
      "loading new token\n",
      "getting device\n",
      "getting variables\n"
     ]
    }
   ],
   "source": [
    "import foxess as f\n",
    "result=f.get_device()"
   ]
  },
  {
   "cell_type": "code",
   "execution_count": 2,
   "metadata": {},
   "outputs": [
    {
     "name": "stdout",
     "output_type": "stream",
     "text": [
      "generationPower      = 25.0\n",
      "feedinPower          = 13.0\n",
      "loadsPower           = 12.0\n",
      "gridConsumptionPower = 0.0\n",
      "batChargePower       = 8.0\n",
      "batDischargePower    = 6.0\n",
      "pvPower              = 30.0\n"
     ]
    }
   ],
   "source": [
    "d = '2023-06-16 00:00:00'\n",
    "i = int(d[8:10])-1\n",
    "result=f.get_raw('day', d=d, v=f.power_vars)\n",
    "for r in result:\n",
    "    print(f\"{r['variable']:20} = {round(r['kWh1'],0)}\")"
   ]
  },
  {
   "cell_type": "code",
   "execution_count": 3,
   "metadata": {},
   "outputs": [
    {
     "name": "stdout",
     "output_type": "stream",
     "text": [
      "generation           = 22.0\n",
      "feedin               = 11.0\n",
      "loads                = 12.0\n",
      "gridConsumption      = 0.0\n",
      "chargeEnergyToTal    = 7.0\n",
      "dischargeEnergyToTal = 5.0\n"
     ]
    }
   ],
   "source": [
    "result=f.get_report('day', d=d, v=f.report_vars)\n",
    "for r in result:\n",
    "    print(f\"{r['variable']:20} = {round(r['total'],0)}\")"
   ]
  },
  {
   "cell_type": "code",
   "execution_count": 4,
   "metadata": {},
   "outputs": [
    {
     "name": "stdout",
     "output_type": "stream",
     "text": [
      "generation           = 25.0\n",
      "feedin               = 13.0\n",
      "loads                = 12.0\n",
      "gridConsumption      = 0.0\n",
      "chargeEnergyToTal    = 8.0\n",
      "dischargeEnergyToTal = 6.0\n"
     ]
    }
   ],
   "source": [
    "result=f.get_report('month', d=d, v=f.report_vars)\n",
    "for r in result:\n",
    "    print(f\"{r['variable']:20} = {round(r['data'][i]['value'],0)}\")"
   ]
  },
  {
   "cell_type": "code",
   "execution_count": null,
   "metadata": {},
   "outputs": [],
   "source": [
    "result=f.get_report('month', d=d, v=['pvPower'])\n",
    "for r in result:\n",
    "    print(f\"{r['variable']} = {round(r['data'][i]['value'],3)}\")\n"
   ]
  },
  {
   "cell_type": "code",
   "execution_count": null,
   "metadata": {},
   "outputs": [],
   "source": [
    "f.get_firmware()"
   ]
  },
  {
   "cell_type": "code",
   "execution_count": null,
   "metadata": {},
   "outputs": [],
   "source": [
    "f.raw_vars"
   ]
  },
  {
   "cell_type": "code",
   "execution_count": null,
   "metadata": {},
   "outputs": [],
   "source": []
  }
 ],
 "metadata": {
  "kernelspec": {
   "display_name": "Python 3 (ipykernel)",
   "language": "python",
   "name": "python3"
  },
  "language_info": {
   "codemirror_mode": {
    "name": "ipython",
    "version": 3
   },
   "file_extension": ".py",
   "mimetype": "text/x-python",
   "name": "python",
   "nbconvert_exporter": "python",
   "pygments_lexer": "ipython3",
   "version": "3.9.2"
  }
 },
 "nbformat": 4,
 "nbformat_minor": 4
}
