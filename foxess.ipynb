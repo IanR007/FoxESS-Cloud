{
 "cells": [
  {
   "cell_type": "code",
   "execution_count": 1,
   "metadata": {},
   "outputs": [
    {
     "name": "stdout",
     "output_type": "stream",
     "text": [
      "loading new token\n",
      "getting device\n",
      "getting variables\n"
     ]
    },
    {
     "data": {
      "text/plain": [
       "{'deviceID': 'dcd0712d-3434-40db-9323-933288bc5964',\n",
       " 'deviceSN': '65BH602026EB004',\n",
       " 'moduleSN': '669L3EPF22WA061',\n",
       " 'plantName': '89 Okebourne Park',\n",
       " 'deviceType': 'H1-6.0-E',\n",
       " 'country': 'United Kingdom',\n",
       " 'countryCode': '',\n",
       " 'feedinDate': '2023-01-10 15:09:35 GMT+0000',\n",
       " 'status': 1,\n",
       " 'power': 1.042,\n",
       " 'generationToday': 9.5,\n",
       " 'generationTotal': 3690.8,\n",
       " 'productType': 'H',\n",
       " 'flowType': 2,\n",
       " 'hasBattery': True,\n",
       " 'hasPV': True,\n",
       " 'dataLatestUploadDate': '2023-08-06 13:26:06 BST+0100',\n",
       " 'hasWifiMeter': False,\n",
       " 'inParallel': 0,\n",
       " 'wifiMeterID': '',\n",
       " 'wifiMeterSN': '',\n",
       " 'atFlag': False}"
      ]
     },
     "execution_count": 1,
     "metadata": {},
     "output_type": "execute_result"
    }
   ],
   "source": [
    "import foxess as f\n",
    "f.get_device()"
   ]
  },
  {
   "cell_type": "code",
   "execution_count": 2,
   "metadata": {},
   "outputs": [
    {
     "name": "stdout",
     "output_type": "stream",
     "text": [
      "getting work mode\n"
     ]
    },
    {
     "data": {
      "text/plain": [
       "'SelfUse'"
      ]
     },
     "execution_count": 2,
     "metadata": {},
     "output_type": "execute_result"
    }
   ],
   "source": [
    "f.get_work_mode()\n",
    "#f.set_work_mode('SelfUse')"
   ]
  },
  {
   "cell_type": "code",
   "execution_count": 3,
   "metadata": {},
   "outputs": [
    {
     "name": "stdout",
     "output_type": "stream",
     "text": [
      "getting charge times\n",
      "getting min soc\n"
     ]
    },
    {
     "data": {
      "text/plain": [
       "{'times': [{'tip': '',\n",
       "   'enableCharge': True,\n",
       "   'enableGrid': False,\n",
       "   'startTime': {'hour': 0, 'minute': 0},\n",
       "   'endTime': {'hour': 0, 'minute': 0}},\n",
       "  {'tip': '',\n",
       "   'enableCharge': True,\n",
       "   'enableGrid': False,\n",
       "   'startTime': {'hour': 0, 'minute': 0},\n",
       "   'endTime': {'hour': 0, 'minute': 0}}],\n",
       " 'minSoc': 10,\n",
       " 'minGridSoc': 12}"
      ]
     },
     "execution_count": 3,
     "metadata": {},
     "output_type": "execute_result"
    }
   ],
   "source": [
    "f.get_settings()"
   ]
  },
  {
   "cell_type": "code",
   "execution_count": 4,
   "metadata": {},
   "outputs": [
    {
     "name": "stdout",
     "output_type": "stream",
     "text": [
      "getting raw data\n",
      "generationPower      = 25.656 / 25.656 / 0.0\n",
      "feedinPower          = 6.967 / 6.967 / 0.0\n",
      "loadsPower           = 18.802 / 18.802 / 0.0\n",
      "gridConsumptionPower = 0.102 / 0.102 / 0.0\n",
      "batChargePower       = 5.606 / 5.606 / 0.0\n",
      "batDischargePower    = 9.713 / 9.713 / 0.0\n",
      "pvPower              = 24.62 / 24.62 / 0.0\n"
     ]
    }
   ],
   "source": [
    "d = '2023-06-17 00:00:00'\n",
    "i = int(d[8:10])-1\n",
    "result=f.get_raw('day', d=d, v=f.power_vars)\n",
    "for r in result:\n",
    "    print(f\"{r['variable']:20} = {round(r['kWh0'],3)} / {round(r['kWh1'],3)} / {round(r['kWh2'],3)}\")"
   ]
  },
  {
   "cell_type": "code",
   "execution_count": 5,
   "metadata": {},
   "outputs": [
    {
     "name": "stdout",
     "output_type": "stream",
     "text": [
      "getting report data\n",
      "generation           = 22.7\n",
      "feedin               = 6.4\n",
      "loads                = 16.4\n",
      "gridConsumption      = 0.2\n",
      "chargeEnergyToTal    = 5.3\n",
      "dischargeEnergyToTal = 8.5\n"
     ]
    }
   ],
   "source": [
    "result=f.get_report('day', d=d, v=f.report_vars)\n",
    "for r in result:\n",
    "    print(f\"{r['variable']:20} = {round(r['total'],3)}\")"
   ]
  },
  {
   "cell_type": "code",
   "execution_count": 6,
   "metadata": {},
   "outputs": [
    {
     "name": "stdout",
     "output_type": "stream",
     "text": [
      "getting report data\n",
      "generation           = 25\n",
      "feedin               = 6.8\n",
      "loads                = 18.1\n",
      "gridConsumption      = 0.2\n",
      "chargeEnergyToTal    = 5.7\n",
      "dischargeEnergyToTal = 9.2\n"
     ]
    }
   ],
   "source": [
    "result=f.get_report('month', d=d, v=f.report_vars)\n",
    "for r in result:\n",
    "    print(f\"{r['variable']:20} = {round(r['data'][i]['value'],3)}\")"
   ]
  },
  {
   "cell_type": "code",
   "execution_count": 7,
   "metadata": {},
   "outputs": [
    {
     "name": "stdout",
     "output_type": "stream",
     "text": [
      "getting report data\n"
     ]
    },
    {
     "data": {
      "text/plain": [
       "[{'variable': 'generation',\n",
       "  'data': [{'index': 1, 'value': 0.599999999999909},\n",
       "   {'index': 2, 'value': 0.40000000000009095},\n",
       "   {'index': 3, 'value': 0.29999999999972715},\n",
       "   {'index': 4, 'value': 0.1999999999998181},\n",
       "   {'index': 5, 'value': 0.20000000000027285},\n",
       "   {'index': 6, 'value': 0.1999999999998181},\n",
       "   {'index': 7, 'value': 0.8000000000001819},\n",
       "   {'index': 8, 'value': 0.40000000000009095},\n",
       "   {'index': 9, 'value': 0.40000000000009095},\n",
       "   {'index': 10, 'value': 1.199999999999818},\n",
       "   {'index': 11, 'value': 0.6000000000003638},\n",
       "   {'index': 12, 'value': 0.599999999999909},\n",
       "   {'index': 13, 'value': 2},\n",
       "   {'index': 14, 'value': 3},\n",
       "   {'index': 15, 'value': 2},\n",
       "   {'index': 16, 'value': 2.200000000000273},\n",
       "   {'index': 17, 'value': 2.199999999999818},\n",
       "   {'index': 18, 'value': 1.2999999999997272},\n",
       "   {'index': 19, 'value': 0.6999999999998181},\n",
       "   {'index': 20, 'value': 0.40000000000009095},\n",
       "   {'index': 21, 'value': 0.599999999999909},\n",
       "   {'index': 22, 'value': 0.6000000000003638},\n",
       "   {'index': 23, 'value': 1.400000000000091},\n",
       "   {'index': 24, 'value': 0.40000000000009095}],\n",
       "  'total': 22.7}]"
      ]
     },
     "execution_count": 7,
     "metadata": {},
     "output_type": "execute_result"
    }
   ],
   "source": [
    "f.get_report('day', d=d, v='generation')"
   ]
  },
  {
   "cell_type": "code",
   "execution_count": 8,
   "metadata": {},
   "outputs": [
    {
     "name": "stdout",
     "output_type": "stream",
     "text": [
      "getting report data\n"
     ]
    },
    {
     "data": {
      "text/plain": [
       "[{'variable': 'generation',\n",
       "  'data': [{'index': 1, 'value': 25.5},\n",
       "   {'index': 2, 'value': 27.5},\n",
       "   {'index': 3, 'value': 31.100000000000364},\n",
       "   {'index': 4, 'value': 34.59999999999991},\n",
       "   {'index': 5, 'value': 26.09999999999991},\n",
       "   {'index': 6, 'value': 13},\n",
       "   {'index': 7, 'value': 26.09999999999991},\n",
       "   {'index': 8, 'value': 33.09999999999991},\n",
       "   {'index': 9, 'value': 35.5},\n",
       "   {'index': 10, 'value': 25.200000000000273},\n",
       "   {'index': 11, 'value': 17.699999999999818},\n",
       "   {'index': 12, 'value': 24.90000000000009},\n",
       "   {'index': 13, 'value': 32.19999999999982},\n",
       "   {'index': 14, 'value': 34.90000000000009},\n",
       "   {'index': 15, 'value': 34.30000000000018},\n",
       "   {'index': 16, 'value': 24.90000000000009},\n",
       "   {'index': 17, 'value': 25},\n",
       "   {'index': 18, 'value': 16.299999999999727},\n",
       "   {'index': 19, 'value': 29.699999999999818},\n",
       "   {'index': 20, 'value': 14.400000000000091},\n",
       "   {'index': 21, 'value': 27.5},\n",
       "   {'index': 22, 'value': 22.90000000000009},\n",
       "   {'index': 23, 'value': 31.199999999999818},\n",
       "   {'index': 24, 'value': 27.300000000000182},\n",
       "   {'index': 25, 'value': 32.29999999999973},\n",
       "   {'index': 26, 'value': 25.100000000000364},\n",
       "   {'index': 27, 'value': 15},\n",
       "   {'index': 28, 'value': 16.699999999999818},\n",
       "   {'index': 29, 'value': 27.90000000000009},\n",
       "   {'index': 30, 'value': 15.199999999999818}],\n",
       "  'total': 773.1}]"
      ]
     },
     "execution_count": 8,
     "metadata": {},
     "output_type": "execute_result"
    }
   ],
   "source": [
    "f.get_report('month', d=d, v='generation')"
   ]
  },
  {
   "cell_type": "code",
   "execution_count": 9,
   "metadata": {},
   "outputs": [
    {
     "name": "stdout",
     "output_type": "stream",
     "text": [
      "getting report data\n"
     ]
    },
    {
     "data": {
      "text/plain": [
       "[{'variable': 'generation',\n",
       "  'data': [{'index': 1, 'value': 87.89999999999999},\n",
       "   {'index': 2, 'value': 246.3},\n",
       "   {'index': 3, 'value': 464.0000000000002},\n",
       "   {'index': 4, 'value': 625.0000000000003},\n",
       "   {'index': 5, 'value': 740.9999999999995},\n",
       "   {'index': 6, 'value': 773.0999999999999},\n",
       "   {'index': 7, 'value': 201.79999999999927},\n",
       "   {'index': 8, 'value': 0},\n",
       "   {'index': 9, 'value': 0},\n",
       "   {'index': 10, 'value': 0},\n",
       "   {'index': 11, 'value': 0},\n",
       "   {'index': 12, 'value': 0}],\n",
       "  'total': 3139.1}]"
      ]
     },
     "execution_count": 9,
     "metadata": {},
     "output_type": "execute_result"
    }
   ],
   "source": [
    "f.get_report('year', d=d, v='generation')"
   ]
  },
  {
   "cell_type": "code",
   "execution_count": 10,
   "metadata": {},
   "outputs": [
    {
     "name": "stdout",
     "output_type": "stream",
     "text": [
      "getting firmware\n"
     ]
    },
    {
     "data": {
      "text/plain": [
       "{'master': '1.54', 'slave': '1.02', 'manager': '1.57', 'afci': ''}"
      ]
     },
     "execution_count": 10,
     "metadata": {},
     "output_type": "execute_result"
    }
   ],
   "source": [
    "f.get_firmware()"
   ]
  },
  {
   "cell_type": "code",
   "execution_count": 11,
   "metadata": {},
   "outputs": [
    {
     "data": {
      "text/plain": [
       "[{'name': 'PV1Volt', 'variable': 'pv1Volt', 'unit': 'V'},\n",
       " {'name': 'PV1Current', 'variable': 'pv1Current', 'unit': 'A'},\n",
       " {'name': 'PV1Power', 'variable': 'pv1Power', 'unit': 'kW'},\n",
       " {'name': 'PVPower', 'variable': 'pvPower', 'unit': 'kW'},\n",
       " {'name': 'PV2Volt', 'variable': 'pv2Volt', 'unit': 'V'},\n",
       " {'name': 'PV2Current', 'variable': 'pv2Current', 'unit': 'A'},\n",
       " {'name': 'PV2Power', 'variable': 'pv2Power', 'unit': 'kW'},\n",
       " {'name': 'PV3Volt', 'variable': 'pv3Volt', 'unit': 'V'},\n",
       " {'name': 'PV3Current', 'variable': 'pv3Current', 'unit': 'A'},\n",
       " {'name': 'PV3Power', 'variable': 'pv3Power', 'unit': 'kW'},\n",
       " {'name': 'PV4Volt', 'variable': 'pv4Volt', 'unit': 'V'},\n",
       " {'name': 'PV4Current', 'variable': 'pv4Current', 'unit': 'A'},\n",
       " {'name': 'PV4Power', 'variable': 'pv4Power', 'unit': 'kW'},\n",
       " {'name': 'EPSPower', 'variable': 'epsPower', 'unit': 'kW'},\n",
       " {'name': 'EPS-RCurrent', 'variable': 'epsCurrentR', 'unit': 'A'},\n",
       " {'name': 'EPS-RVolt', 'variable': 'epsVoltR', 'unit': 'V'},\n",
       " {'name': 'EPS-RPower', 'variable': 'epsPowerR', 'unit': 'kW'},\n",
       " {'name': 'EPS-SCurrent', 'variable': 'epsCurrentS', 'unit': 'A'},\n",
       " {'name': 'EPS-SVolt', 'variable': 'epsVoltS', 'unit': 'V'},\n",
       " {'name': 'EPS-SPower', 'variable': 'epsPowerS', 'unit': 'kW'},\n",
       " {'name': 'EPS-TCurrent', 'variable': 'epsCurrentT', 'unit': 'A'},\n",
       " {'name': 'EPS-TVolt', 'variable': 'epsVoltT', 'unit': 'V'},\n",
       " {'name': 'EPS-TPower', 'variable': 'epsPowerT', 'unit': 'kW'},\n",
       " {'name': 'RCurrent', 'variable': 'RCurrent', 'unit': 'A'},\n",
       " {'name': 'RVolt', 'variable': 'RVolt', 'unit': 'V'},\n",
       " {'name': 'RFreq', 'variable': 'RFreq', 'unit': 'Hz'},\n",
       " {'name': 'RPower', 'variable': 'RPower', 'unit': 'kW'},\n",
       " {'name': 'SCurrent', 'variable': 'SCurrent', 'unit': 'A'},\n",
       " {'name': 'SVolt', 'variable': 'SVolt', 'unit': 'V'},\n",
       " {'name': 'SFreq', 'variable': 'SFreq', 'unit': 'Hz'},\n",
       " {'name': 'SPower', 'variable': 'SPower', 'unit': 'kW'},\n",
       " {'name': 'TCurrent', 'variable': 'TCurrent', 'unit': 'A'},\n",
       " {'name': 'TVolt', 'variable': 'TVolt', 'unit': 'V'},\n",
       " {'name': 'TFreq', 'variable': 'TFreq', 'unit': 'Hz'},\n",
       " {'name': 'TPower', 'variable': 'TPower', 'unit': 'kW'},\n",
       " {'name': 'AmbientTemperature', 'variable': 'ambientTemperation', 'unit': '℃'},\n",
       " {'name': 'BoostTemperature', 'variable': 'boostTemperation', 'unit': '℃'},\n",
       " {'name': 'InvTemperation', 'variable': 'invTemperation', 'unit': '℃'},\n",
       " {'name': 'ChargeTemperature', 'variable': 'chargeTemperature', 'unit': '℃'},\n",
       " {'name': 'batTemperature', 'variable': 'batTemperature', 'unit': '℃'},\n",
       " {'name': 'DSPTemperature', 'variable': 'dspTemperature', 'unit': '℃'},\n",
       " {'name': 'Load Power', 'variable': 'loadsPower', 'unit': 'kW'},\n",
       " {'name': 'LoadsRPower', 'variable': 'loadsPowerR', 'unit': 'kW'},\n",
       " {'name': 'LoadsSPower', 'variable': 'loadsPowerS', 'unit': 'kW'},\n",
       " {'name': 'LoadsTPower', 'variable': 'loadsPowerT', 'unit': 'kW'},\n",
       " {'name': 'Output Power', 'variable': 'generationPower', 'unit': 'kW'},\n",
       " {'name': 'Feed-in Power', 'variable': 'feedinPower', 'unit': 'kW'},\n",
       " {'name': 'GridConsumption Power',\n",
       "  'variable': 'gridConsumptionPower',\n",
       "  'unit': 'kW'},\n",
       " {'name': 'InvBatVolt', 'variable': 'invBatVolt', 'unit': 'V'},\n",
       " {'name': 'InvBatCurrent', 'variable': 'invBatCurrent', 'unit': 'A'},\n",
       " {'name': 'invBatPower', 'variable': 'invBatPower', 'unit': 'kW'},\n",
       " {'name': 'Charge Power', 'variable': 'batChargePower', 'unit': 'kW'},\n",
       " {'name': 'Discharge Power', 'variable': 'batDischargePower', 'unit': 'kW'},\n",
       " {'name': 'BatVolt', 'variable': 'batVolt', 'unit': 'V'},\n",
       " {'name': 'BatCurrent', 'variable': 'batCurrent', 'unit': 'A'},\n",
       " {'name': 'MeterPower', 'variable': 'meterPower', 'unit': 'kW'},\n",
       " {'name': 'Meter2Power', 'variable': 'meterPower2', 'unit': 'kW'},\n",
       " {'name': 'MeterRPower', 'variable': 'meterPowerR', 'unit': 'kW'},\n",
       " {'name': 'MeterSPower', 'variable': 'meterPowerS', 'unit': 'kW'},\n",
       " {'name': 'MeterTPower', 'variable': 'meterPowerT', 'unit': 'kW'},\n",
       " {'name': 'SoC', 'variable': 'SoC', 'unit': '%'},\n",
       " {'name': 'ReactivePower', 'variable': 'ReactivePower', 'unit': 'kVar'},\n",
       " {'name': 'PowerFactor', 'variable': 'PowerFactor', 'unit': ''}]"
      ]
     },
     "execution_count": 11,
     "metadata": {},
     "output_type": "execute_result"
    }
   ],
   "source": [
    "f.raw_vars"
   ]
  },
  {
   "cell_type": "code",
   "execution_count": 12,
   "metadata": {},
   "outputs": [
    {
     "name": "stdout",
     "output_type": "stream",
     "text": [
      "getting battery\n"
     ]
    },
    {
     "data": {
      "text/plain": [
       "{'status': 1,\n",
       " 'soc': 82,\n",
       " 'volt': 324,\n",
       " 'current': -5,\n",
       " 'power': -1.559,\n",
       " 'residual': 11420,\n",
       " 'temperature': 32,\n",
       " 'timestamp': '',\n",
       " 'warning': False,\n",
       " 'descUrl': ''}"
      ]
     },
     "execution_count": 12,
     "metadata": {},
     "output_type": "execute_result"
    }
   ],
   "source": [
    "f.get_battery()"
   ]
  },
  {
   "cell_type": "code",
   "execution_count": 13,
   "metadata": {},
   "outputs": [
    {
     "name": "stdout",
     "output_type": "stream",
     "text": [
      "getting earnings\n"
     ]
    },
    {
     "data": {
      "text/plain": [
       "{'currency': 'GBP(￡)',\n",
       " 'power': 0.486,\n",
       " 'today': {'generation': 6.399999999999636, 'earnings': 2.1759999999998763},\n",
       " 'month': {'generation': 202.0999999999999, 'earnings': 68.71399999999997},\n",
       " 'year': {'generation': 3174.2, 'earnings': 1079.228},\n",
       " 'cumulate': {'generation': 3174.2, 'earnings': 1079.228},\n",
       " 'systemCapacity': 393216}"
      ]
     },
     "execution_count": 13,
     "metadata": {},
     "output_type": "execute_result"
    }
   ],
   "source": [
    "f.get_earnings()"
   ]
  },
  {
   "cell_type": "code",
   "execution_count": 5,
   "metadata": {},
   "outputs": [
    {
     "name": "stdout",
     "output_type": "stream",
     "text": [
      "2023-01-17, 4.282, 0.022, 15.064\n",
      "2023-01-18, 5.956, 0.104, 17.756\n",
      "2023-01-19, 6.823, 0.054, 21.45\n",
      "2023-01-20, 8.063, 0.039, 18.943\n",
      "2023-01-21, 3.054, 0.022, 22.036\n",
      "2023-01-22, 3.997, 0.035, 22.281\n",
      "2023-01-23, 8.573, 0.092, 24.519\n",
      "2023-01-24, 8.764, 0.054, 26.725\n",
      "2023-01-25, 2.03, 0.001, 18.129\n",
      "2023-01-26, 4.135, 0.017, 12.724\n",
      "2023-01-27, 2.879, 0.027, 14.25\n",
      "2023-01-28, 2.378, 0.006, 14.625\n",
      "2023-01-29, 2.411, 0.0, 13.418\n",
      "2023-01-30, 5.596, 0.077, 16.188\n",
      "2023-01-31, 6.285, 0.105, 13.574\n",
      "2023-02-01, 5.195, 0.027, 15.92\n",
      "2023-02-02, 4.138, 0.008, 12.413\n",
      "2023-02-03, 4.799, 0.016, 11.302\n",
      "2023-02-04, 1.318, 0.0, 10.562\n",
      "2023-02-05, 9.125, 0.075, 13.518\n",
      "2023-02-06, 11.744, 0.123, 18.497\n",
      "2023-02-07, 12.095, 0.179, 21.981\n",
      "2023-02-08, 12.159, 0.157, 20.638\n",
      "2023-02-09, 7.286, 0.018, 10.915\n",
      "2023-02-10, 7.234, 0.087, 17.036\n",
      "2023-02-11, 2.586, 0.142, 11.81\n",
      "2023-02-12, 4.316, 0.007, 12.097\n",
      "2023-02-13, 8.485, 0.013, 10.997\n",
      "2023-02-14, 11.547, 0.133, 13.214\n",
      "2023-02-15, 11.351, 0.025, 14.103\n",
      "2023-02-16, 3.883, 0.12, 12.588\n",
      "2023-02-17, 3.606, 0.035, 11.934\n",
      "2023-02-18, 3.291, 0.006, 12.384\n",
      "2023-02-19, 11.97, 2.862, 8.943\n",
      "2023-02-20, 7.033, 0.141, 11.888\n",
      "2023-02-21, 4.996, 0.101, 12.051\n",
      "2023-02-22, 5.425, 0.182, 13.754\n",
      "2023-02-23, 2.996, 0.017, 12.125\n",
      "2023-02-24, 4.473, 0.044, 15.088\n",
      "2023-02-25, 7.43, 0.106, 13.623\n",
      "2023-02-26, 13.915, 0.353, 15.381\n",
      "2023-02-27, 5.66, 0.011, 18.172\n",
      "2023-02-28, 4.894, 0.035, 15.283\n",
      "2023-03-01, 6.956, 0.047, 12.716\n",
      "2023-03-02, 16.118, 2.53, 13.144\n",
      "2023-03-03, 3.814, 0.031, 11.124\n",
      "2023-03-04, 3.448, 0.025, 9.968\n",
      "2023-03-05, 4.803, 0.174, 9.543\n",
      "2023-03-06, 7.247, 0.085, 11.592\n",
      "2023-03-07, 8.553, 0.377, 16.909\n",
      "2023-03-08, 1.033, 0.134, 15.552\n",
      "2023-03-09, 4.696, 0.063, 13.48\n",
      "2023-03-10, 6.251, 0.198, 12.114\n",
      "2023-03-11, 10.807, 3.461, 17.466\n",
      "2023-03-12, 11.114, 3.884, 15.953\n",
      "2023-03-13, 10.375, 3.56, 13.534\n",
      "2023-03-14, 15.972, 8.279, 14.475\n",
      "2023-03-15, 7.859, 0.088, 15.6\n",
      "2023-03-16, 5.787, 0.692, 12.337\n",
      "2023-03-17, 12.992, 5.959, 12.601\n",
      "2023-03-18, 12.926, 6.088, 12.698\n",
      "2023-03-19, 13.02, 5.593, 13.503\n",
      "2023-03-20, 5.05, 0.029, 15.179\n",
      "2023-03-21, 11.375, 3.371, 15.664\n",
      "2023-03-22, 16.064, 7.189, 14.969\n",
      "2023-03-23, 14.971, 8.416, 13.67\n",
      "2023-03-24, 17.598, 9.787, 14.754\n",
      "2023-03-25, 22.266, 15.443, 12.525\n",
      "2023-03-26, 8.065, 0.396, 14.917\n",
      "2023-03-27, 22.986, 12.862, 14.012\n",
      "2023-03-28, 7.104, 0.067, 11.761\n",
      "2023-03-29, 4.354, 0.001, 13.27\n",
      "2023-03-30, 15.277, 7.902, 12.004\n",
      "2023-03-31, 9.318, 3.998, 11.537\n",
      "2023-04-01, 7.135, 0.338, 13.654\n",
      "2023-04-02, 14.335, 6.682, 11.958\n",
      "2023-04-03, 27.911, 15.463, 19.824\n",
      "2023-04-04, 30.119, 16.547, 17.253\n",
      "2023-04-05, 9.628, 2.716, 12.43\n",
      "2023-04-06, 15.788, 5.817, 14.86\n",
      "2023-04-07, 25.261, 16.738, 12.153\n",
      "2023-04-08, 25.22, 13.567, 15.673\n",
      "2023-04-09, 20.936, 14.671, 8.652\n",
      "2023-04-10, 20.571, 13.836, 8.822\n",
      "2023-04-11, 14.651, 9.434, 6.498\n",
      "2023-04-12, 13.466, 8.41, 8.313\n",
      "2023-04-13, 29.009, 17.322, 16.32\n",
      "2023-04-14, 11.517, 3.466, 12.663\n",
      "2023-04-15, 17.738, 7.028, 14.63\n",
      "2023-04-16, 10.539, 2.187, 14.422\n",
      "2023-04-17, 13.219, 3.662, 15.376\n",
      "2023-04-18, 21.364, 11.491, 14.581\n",
      "2023-04-19, 22.256, 11.833, 14.397\n",
      "2023-04-20, 34.321, 18.665, 18.003\n",
      "2023-04-21, 9.006, 1.19, 14.172\n",
      "2023-04-22, 19.587, 10.922, 14.147\n",
      "2023-04-23, 0.224, 0.001, 2.305\n",
      "2023-04-24, 9.479, 2.447, 11.435\n",
      "2023-04-25, 32.867, 22.966, 14.55\n",
      "2023-04-26, 11.198, 3.673, 14.077\n",
      "2023-04-27, 8.167, 1.144, 13.015\n",
      "2023-04-28, 15.16, 5.774, 13.474\n",
      "2023-04-29, 22.815, 13.772, 13.24\n",
      "2023-04-30, 13.161, 1.506, 16.226\n",
      "2023-05-01, 17.567, 5.263, 15.615\n",
      "2023-05-02, 14.018, 0.03, 13.452\n",
      "2023-05-03, 33.076, 16.615, 14.502\n",
      "2023-05-04, 21.192, 8.502, 11.973\n",
      "2023-05-05, 17.177, 5.89, 11.161\n",
      "2023-05-06, 7.06, 0.008, 12.313\n",
      "2023-05-07, 23.683, 8.074, 16.215\n",
      "2023-05-08, 10.076, 0.024, 12.006\n",
      "2023-05-09, 15.279, 3.33, 11.372\n",
      "2023-05-10, 23.453, 6.451, 15.956\n",
      "2023-05-11, 19.556, 4.872, 15.136\n"
     ]
    }
   ],
   "source": [
    "f.get_pvoutput('2023-01-17',115)"
   ]
  },
  {
   "cell_type": "code",
   "execution_count": null,
   "metadata": {},
   "outputs": [],
   "source": []
  }
 ],
 "metadata": {
  "kernelspec": {
   "display_name": "Python 3 (ipykernel)",
   "language": "python",
   "name": "python3"
  },
  "language_info": {
   "codemirror_mode": {
    "name": "ipython",
    "version": 3
   },
   "file_extension": ".py",
   "mimetype": "text/x-python",
   "name": "python",
   "nbconvert_exporter": "python",
   "pygments_lexer": "ipython3",
   "version": "3.9.2"
  }
 },
 "nbformat": 4,
 "nbformat_minor": 4
}
