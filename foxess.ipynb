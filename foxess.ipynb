{
 "cells": [
  {
   "cell_type": "code",
   "execution_count": 1,
   "metadata": {},
   "outputs": [
    {
     "name": "stdout",
     "output_type": "stream",
     "text": [
      "loading new token\n",
      "getting device\n"
     ]
    },
    {
     "data": {
      "text/plain": [
       "{'deviceID': 'dcd0712d-3434-40db-9323-933288bc5964',\n",
       " 'deviceSN': '65BH602026EB004',\n",
       " 'moduleSN': '669L3EPF22WA061',\n",
       " 'plantName': '89 Okebourne Park',\n",
       " 'deviceType': 'H1-6.0-E',\n",
       " 'country': 'United Kingdom',\n",
       " 'countryCode': '',\n",
       " 'feedinDate': '2023-01-10 15:09:35 GMT+0000',\n",
       " 'status': 1,\n",
       " 'power': 0.461,\n",
       " 'generationToday': 32.40000000000009,\n",
       " 'generationTotal': 2314.8,\n",
       " 'productType': 'H',\n",
       " 'flowType': 2,\n",
       " 'hasBattery': True,\n",
       " 'hasPV': True,\n",
       " 'dataLatestUploadDate': '2023-06-04 19:20:00 BST+0100',\n",
       " 'hasWifiMeter': False,\n",
       " 'inParallel': 0,\n",
       " 'wifiMeterID': ''}"
      ]
     },
     "execution_count": 1,
     "metadata": {},
     "output_type": "execute_result"
    }
   ],
   "source": [
    "import foxess as f\n",
    "f.get_device()"
   ]
  },
  {
   "cell_type": "code",
   "execution_count": 2,
   "metadata": {},
   "outputs": [
    {
     "name": "stdout",
     "output_type": "stream",
     "text": [
      "getting battery\n"
     ]
    },
    {
     "data": {
      "text/plain": [
       "{'status': 1,\n",
       " 'soc': 95,\n",
       " 'volt': 319.2,\n",
       " 'current': -0.5,\n",
       " 'power': -0.104,\n",
       " 'residual': 13140,\n",
       " 'temperature': 31.3,\n",
       " 'timestamp': '',\n",
       " 'warning': False,\n",
       " 'descUrl': ''}"
      ]
     },
     "execution_count": 2,
     "metadata": {},
     "output_type": "execute_result"
    }
   ],
   "source": [
    "f.get_battery()"
   ]
  },
  {
   "cell_type": "code",
   "execution_count": 3,
   "metadata": {},
   "outputs": [
    {
     "name": "stdout",
     "output_type": "stream",
     "text": [
      "getting variables\n"
     ]
    },
    {
     "data": {
      "text/plain": [
       "['loadsPower',\n",
       " 'generationPower',\n",
       " 'feedinPower',\n",
       " 'gridConsumptionPower',\n",
       " 'RVolt',\n",
       " 'RCurrent',\n",
       " 'RFreq',\n",
       " 'RPower',\n",
       " 'SVolt',\n",
       " 'SCurrent',\n",
       " 'SFreq',\n",
       " 'SPower',\n",
       " 'TVolt',\n",
       " 'TCurrent',\n",
       " 'TFreq',\n",
       " 'TPower',\n",
       " 'pv1Volt',\n",
       " 'pv1Current',\n",
       " 'pv1Power',\n",
       " 'pv2Volt',\n",
       " 'pv2Current',\n",
       " 'pv2Power',\n",
       " 'pv3Volt',\n",
       " 'pv3Current',\n",
       " 'pv3Power',\n",
       " 'pv4Volt',\n",
       " 'pv4Current',\n",
       " 'pv4Power',\n",
       " 'boostTemperation',\n",
       " 'invTemperation',\n",
       " 'ambientTemperation']"
      ]
     },
     "execution_count": 3,
     "metadata": {},
     "output_type": "execute_result"
    }
   ],
   "source": [
    "f.get_variables()"
   ]
  },
  {
   "cell_type": "code",
   "execution_count": 4,
   "metadata": {},
   "outputs": [
    {
     "name": "stdout",
     "output_type": "stream",
     "text": [
      "getting firmware\n"
     ]
    },
    {
     "data": {
      "text/plain": [
       "{'master': '1.54', 'slave': '1.02', 'manager': '1.57', 'afci': ''}"
      ]
     },
     "execution_count": 4,
     "metadata": {},
     "output_type": "execute_result"
    }
   ],
   "source": [
    "f.get_firmware()"
   ]
  },
  {
   "cell_type": "code",
   "execution_count": null,
   "metadata": {},
   "outputs": [],
   "source": []
  }
 ],
 "metadata": {
  "kernelspec": {
   "display_name": "Python 3",
   "language": "python",
   "name": "python3"
  },
  "language_info": {
   "codemirror_mode": {
    "name": "ipython",
    "version": 3
   },
   "file_extension": ".py",
   "mimetype": "text/x-python",
   "name": "python",
   "nbconvert_exporter": "python",
   "pygments_lexer": "ipython3",
   "version": "3.7.3"
  }
 },
 "nbformat": 4,
 "nbformat_minor": 4
}
