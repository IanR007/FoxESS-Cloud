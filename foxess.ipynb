{
 "cells": [
  {
   "cell_type": "code",
   "execution_count": 3,
   "metadata": {},
   "outputs": [
    {
     "name": "stdout",
     "output_type": "stream",
     "text": [
      "Note: you may need to restart the kernel to use updated packages.\n"
     ]
    }
   ],
   "source": [
    "!pip install random-user-agent --quiet --root-user-action=ignore\n",
    "import foxess as f\n",
    "import private as my\n",
    "f.username = my.username\n",
    "f.password = my.password"
   ]
  },
  {
   "cell_type": "code",
   "execution_count": null,
   "metadata": {},
   "outputs": [],
   "source": [
    "f.get_site()"
   ]
  },
  {
   "cell_type": "code",
   "execution_count": 2,
   "metadata": {},
   "outputs": [
    {
     "name": "stdout",
     "output_type": "stream",
     "text": [
      "getting loggers\n"
     ]
    },
    {
     "data": {
      "text/plain": [
       "{'moduleID': '85044387-f2a4-4bd1-9ff1-42dbe066fce1',\n",
       " 'moduleSN': '669L3EPF22WA061',\n",
       " 'moduleType': 'L3',\n",
       " 'plantName': '89 Okebourne Park',\n",
       " 'stationID': '',\n",
       " 'version': '3.08',\n",
       " 'signal': 0,\n",
       " 'communication': 1}"
      ]
     },
     "execution_count": 2,
     "metadata": {},
     "output_type": "execute_result"
    }
   ],
   "source": [
    "f.get_logger()"
   ]
  },
  {
   "cell_type": "code",
   "execution_count": 3,
   "metadata": {},
   "outputs": [
    {
     "name": "stdout",
     "output_type": "stream",
     "text": [
      "getting device\n",
      "getting variables\n"
     ]
    },
    {
     "data": {
      "text/plain": [
       "{'deviceID': 'dcd0712d-3434-40db-9323-933288bc5964',\n",
       " 'deviceSN': '65BH602026EB004',\n",
       " 'moduleSN': '669L3EPF22WA061',\n",
       " 'plantName': '89 Okebourne Park',\n",
       " 'deviceType': 'H1-6.0-E',\n",
       " 'country': 'United Kingdom',\n",
       " 'countryCode': '',\n",
       " 'feedinDate': '2023-01-10 15:09:35 GMT+0000',\n",
       " 'status': 1,\n",
       " 'power': 0.665,\n",
       " 'generationToday': 6.5,\n",
       " 'generationTotal': 3867.6,\n",
       " 'productType': 'H',\n",
       " 'flowType': 2,\n",
       " 'hasBattery': True,\n",
       " 'hasPV': True,\n",
       " 'dataLatestUploadDate': '2023-08-14 14:13:20 BST+0100',\n",
       " 'hasWifiMeter': False,\n",
       " 'inParallel': 0,\n",
       " 'wifiMeterID': '',\n",
       " 'wifiMeterSN': '',\n",
       " 'atFlag': False}"
      ]
     },
     "execution_count": 3,
     "metadata": {},
     "output_type": "execute_result"
    }
   ],
   "source": [
    "f.get_device()"
   ]
  },
  {
   "cell_type": "code",
   "execution_count": 2,
   "metadata": {},
   "outputs": [
    {
     "name": "stdout",
     "output_type": "stream",
     "text": [
      "getting work mode\n"
     ]
    },
    {
     "data": {
      "text/plain": [
       "'Feedin'"
      ]
     },
     "execution_count": 2,
     "metadata": {},
     "output_type": "execute_result"
    }
   ],
   "source": [
    "#f.get_work_mode()\n",
    "#f.set_work_mode('SelfUse')\n",
    "f.get_work_mode()\n"
   ]
  },
  {
   "cell_type": "code",
   "execution_count": 3,
   "metadata": {},
   "outputs": [
    {
     "name": "stdout",
     "output_type": "stream",
     "text": [
      "getting charge times\n",
      "getting min soc\n"
     ]
    },
    {
     "data": {
      "text/plain": [
       "{'times': [{'tip': '',\n",
       "   'enableCharge': True,\n",
       "   'enableGrid': False,\n",
       "   'startTime': {'hour': 0, 'minute': 0},\n",
       "   'endTime': {'hour': 0, 'minute': 0}},\n",
       "  {'tip': '',\n",
       "   'enableCharge': True,\n",
       "   'enableGrid': False,\n",
       "   'startTime': {'hour': 0, 'minute': 0},\n",
       "   'endTime': {'hour': 0, 'minute': 0}}],\n",
       " 'minSoc': 10,\n",
       " 'minGridSoc': 12}"
      ]
     },
     "execution_count": 3,
     "metadata": {},
     "output_type": "execute_result"
    }
   ],
   "source": [
    "f.get_settings()"
   ]
  },
  {
   "cell_type": "code",
   "execution_count": 19,
   "metadata": {},
   "outputs": [
    {
     "name": "stdout",
     "output_type": "stream",
     "text": [
      "output_daily         = 19.7\n",
      "feedin_daily         = 8.5\n",
      "load_daily           = 12.0\n",
      "grid_daily           = 0.9\n",
      "bat_charge_daily     = 6.7\n",
      "bat_discharge_daily  = 5.2\n",
      "pv_energy_daily      = 23.6\n",
      "input_daily          = 0.0\n"
     ]
    }
   ],
   "source": [
    "d = '2023-05-17 00:00:00'\n",
    "result=f.get_raw('day', d=d, v=f.power_vars, transform=2)\n",
    "for r in result:\n",
    "    print(f\"{r['name']:20} = {round(r['kwh'],3)}\")"
   ]
  },
  {
   "cell_type": "code",
   "execution_count": 22,
   "metadata": {},
   "outputs": [
    {
     "name": "stdout",
     "output_type": "stream",
     "text": [
      "getting report data\n",
      "generation           = 20\n",
      "feedin               = 8\n",
      "loads                = 12.5\n",
      "gridConsumption      = 0.7\n",
      "chargeEnergyToTal    = 6.9\n",
      "dischargeEnergyToTal = 5.5\n"
     ]
    }
   ],
   "source": [
    "result=f.get_report('month', d=d, v=f.report_vars)\n",
    "i = int(d[8:10])-1\n",
    "for r in result:\n",
    "    print(f\"{r['variable']:20} = {round(r['data'][i]['value'],3)}\")"
   ]
  },
  {
   "cell_type": "code",
   "execution_count": 7,
   "metadata": {},
   "outputs": [
    {
     "name": "stdout",
     "output_type": "stream",
     "text": [
      "getting report data\n"
     ]
    },
    {
     "data": {
      "text/plain": [
       "[{'variable': 'generation',\n",
       "  'data': [{'index': 1, 'value': 0.30000000000001137},\n",
       "   {'index': 2, 'value': 0.4000000000000057},\n",
       "   {'index': 3, 'value': 0},\n",
       "   {'index': 4, 'value': 0},\n",
       "   {'index': 5, 'value': 0.30000000000001137},\n",
       "   {'index': 6, 'value': 0.29999999999998295},\n",
       "   {'index': 7, 'value': 0.29999999999998295},\n",
       "   {'index': 8, 'value': 0.4000000000000057},\n",
       "   {'index': 9, 'value': 0.6999999999999886},\n",
       "   {'index': 10, 'value': 0.39999999999997726},\n",
       "   {'index': 11, 'value': 0.4000000000000057},\n",
       "   {'index': 12, 'value': 0.4000000000000057},\n",
       "   {'index': 13, 'value': 0.5},\n",
       "   {'index': 14, 'value': 0.700000000000017},\n",
       "   {'index': 15, 'value': 0.39999999999997726},\n",
       "   {'index': 16, 'value': 0.30000000000001137},\n",
       "   {'index': 17, 'value': 0.700000000000017},\n",
       "   {'index': 18, 'value': 0.799999999999983},\n",
       "   {'index': 19, 'value': 1.1000000000000227},\n",
       "   {'index': 20, 'value': 0.5999999999999943},\n",
       "   {'index': 21, 'value': 0.5},\n",
       "   {'index': 22, 'value': 0.5},\n",
       "   {'index': 23, 'value': 0.4000000000000057},\n",
       "   {'index': 24, 'value': 0.09999999999999432}],\n",
       "  'total': 10.5}]"
      ]
     },
     "execution_count": 7,
     "metadata": {},
     "output_type": "execute_result"
    }
   ],
   "source": [
    "f.get_report('day', d=d, v='generation')"
   ]
  },
  {
   "cell_type": "code",
   "execution_count": 8,
   "metadata": {},
   "outputs": [
    {
     "name": "stdout",
     "output_type": "stream",
     "text": [
      "getting report data\n"
     ]
    },
    {
     "data": {
      "text/plain": [
       "[{'variable': 'generation',\n",
       "  'data': [{'index': 1, 'value': 5.800000000000011},\n",
       "   {'index': 2, 'value': 4.099999999999994},\n",
       "   {'index': 3, 'value': 4.5},\n",
       "   {'index': 4, 'value': 1.5},\n",
       "   {'index': 5, 'value': 8},\n",
       "   {'index': 6, 'value': 10.5},\n",
       "   {'index': 7, 'value': 10.900000000000006},\n",
       "   {'index': 8, 'value': 11.099999999999994},\n",
       "   {'index': 9, 'value': 6.5},\n",
       "   {'index': 10, 'value': 10.5},\n",
       "   {'index': 11, 'value': 8.099999999999994},\n",
       "   {'index': 12, 'value': 8.300000000000011},\n",
       "   {'index': 13, 'value': 7.699999999999989},\n",
       "   {'index': 14, 'value': 10},\n",
       "   {'index': 15, 'value': 10.799999999999983},\n",
       "   {'index': 16, 'value': 7.599999999999994},\n",
       "   {'index': 17, 'value': 11.400000000000006},\n",
       "   {'index': 18, 'value': 10.800000000000011},\n",
       "   {'index': 19, 'value': 11.299999999999983},\n",
       "   {'index': 20, 'value': 10.800000000000011},\n",
       "   {'index': 21, 'value': 11},\n",
       "   {'index': 22, 'value': 11.600000000000023},\n",
       "   {'index': 23, 'value': 11.5},\n",
       "   {'index': 24, 'value': 12.399999999999977},\n",
       "   {'index': 25, 'value': 6.800000000000011},\n",
       "   {'index': 26, 'value': 11.300000000000011},\n",
       "   {'index': 27, 'value': 6.800000000000011},\n",
       "   {'index': 28, 'value': 4.699999999999989}],\n",
       "  'total': 246.3}]"
      ]
     },
     "execution_count": 8,
     "metadata": {},
     "output_type": "execute_result"
    }
   ],
   "source": [
    "f.get_report('month', d=d, v='generation')"
   ]
  },
  {
   "cell_type": "code",
   "execution_count": 9,
   "metadata": {},
   "outputs": [
    {
     "name": "stdout",
     "output_type": "stream",
     "text": [
      "getting report data\n"
     ]
    },
    {
     "data": {
      "text/plain": [
       "[{'variable': 'generation',\n",
       "  'data': [{'index': 1, 'value': 87.89999999999999},\n",
       "   {'index': 2, 'value': 246.3},\n",
       "   {'index': 3, 'value': 464.0000000000002},\n",
       "   {'index': 4, 'value': 625.0000000000003},\n",
       "   {'index': 5, 'value': 740.9999999999995},\n",
       "   {'index': 6, 'value': 773.0999999999999},\n",
       "   {'index': 7, 'value': 618.2000000000003},\n",
       "   {'index': 8, 'value': 267.0999999999999},\n",
       "   {'index': 9, 'value': 0},\n",
       "   {'index': 10, 'value': 0},\n",
       "   {'index': 11, 'value': 0},\n",
       "   {'index': 12, 'value': 0}],\n",
       "  'total': 3822.6}]"
      ]
     },
     "execution_count": 9,
     "metadata": {},
     "output_type": "execute_result"
    }
   ],
   "source": [
    "f.get_report('year', d=d, v='generation')"
   ]
  },
  {
   "cell_type": "code",
   "execution_count": 10,
   "metadata": {},
   "outputs": [
    {
     "name": "stdout",
     "output_type": "stream",
     "text": [
      "getting firmware\n"
     ]
    },
    {
     "data": {
      "text/plain": [
       "{'master': '1.54', 'slave': '1.02', 'manager': '1.57', 'afci': ''}"
      ]
     },
     "execution_count": 10,
     "metadata": {},
     "output_type": "execute_result"
    }
   ],
   "source": [
    "f.get_firmware()"
   ]
  },
  {
   "cell_type": "code",
   "execution_count": 14,
   "metadata": {},
   "outputs": [
    {
     "data": {
      "text/plain": [
       "[{'name': 'PV1Volt', 'variable': 'pv1Volt', 'unit': 'V'},\n",
       " {'name': 'PV1Current', 'variable': 'pv1Current', 'unit': 'A'},\n",
       " {'name': 'PV1Power', 'variable': 'pv1Power', 'unit': 'kW'},\n",
       " {'name': 'PVPower', 'variable': 'pvPower', 'unit': 'kW'},\n",
       " {'name': 'PV2Volt', 'variable': 'pv2Volt', 'unit': 'V'},\n",
       " {'name': 'PV2Current', 'variable': 'pv2Current', 'unit': 'A'},\n",
       " {'name': 'PV2Power', 'variable': 'pv2Power', 'unit': 'kW'},\n",
       " {'name': 'PV3Volt', 'variable': 'pv3Volt', 'unit': 'V'},\n",
       " {'name': 'PV3Current', 'variable': 'pv3Current', 'unit': 'A'},\n",
       " {'name': 'PV3Power', 'variable': 'pv3Power', 'unit': 'kW'},\n",
       " {'name': 'PV4Volt', 'variable': 'pv4Volt', 'unit': 'V'},\n",
       " {'name': 'PV4Current', 'variable': 'pv4Current', 'unit': 'A'},\n",
       " {'name': 'PV4Power', 'variable': 'pv4Power', 'unit': 'kW'},\n",
       " {'name': 'EPSPower', 'variable': 'epsPower', 'unit': 'kW'},\n",
       " {'name': 'EPS-RCurrent', 'variable': 'epsCurrentR', 'unit': 'A'},\n",
       " {'name': 'EPS-RVolt', 'variable': 'epsVoltR', 'unit': 'V'},\n",
       " {'name': 'EPS-RPower', 'variable': 'epsPowerR', 'unit': 'kW'},\n",
       " {'name': 'EPS-SCurrent', 'variable': 'epsCurrentS', 'unit': 'A'},\n",
       " {'name': 'EPS-SVolt', 'variable': 'epsVoltS', 'unit': 'V'},\n",
       " {'name': 'EPS-SPower', 'variable': 'epsPowerS', 'unit': 'kW'},\n",
       " {'name': 'EPS-TCurrent', 'variable': 'epsCurrentT', 'unit': 'A'},\n",
       " {'name': 'EPS-TVolt', 'variable': 'epsVoltT', 'unit': 'V'},\n",
       " {'name': 'EPS-TPower', 'variable': 'epsPowerT', 'unit': 'kW'},\n",
       " {'name': 'RCurrent', 'variable': 'RCurrent', 'unit': 'A'},\n",
       " {'name': 'RVolt', 'variable': 'RVolt', 'unit': 'V'},\n",
       " {'name': 'RFreq', 'variable': 'RFreq', 'unit': 'Hz'},\n",
       " {'name': 'RPower', 'variable': 'RPower', 'unit': 'kW'},\n",
       " {'name': 'SCurrent', 'variable': 'SCurrent', 'unit': 'A'},\n",
       " {'name': 'SVolt', 'variable': 'SVolt', 'unit': 'V'},\n",
       " {'name': 'SFreq', 'variable': 'SFreq', 'unit': 'Hz'},\n",
       " {'name': 'SPower', 'variable': 'SPower', 'unit': 'kW'},\n",
       " {'name': 'TCurrent', 'variable': 'TCurrent', 'unit': 'A'},\n",
       " {'name': 'TVolt', 'variable': 'TVolt', 'unit': 'V'},\n",
       " {'name': 'TFreq', 'variable': 'TFreq', 'unit': 'Hz'},\n",
       " {'name': 'TPower', 'variable': 'TPower', 'unit': 'kW'},\n",
       " {'name': 'AmbientTemperature', 'variable': 'ambientTemperation', 'unit': '℃'},\n",
       " {'name': 'BoostTemperature', 'variable': 'boostTemperation', 'unit': '℃'},\n",
       " {'name': 'InvTemperation', 'variable': 'invTemperation', 'unit': '℃'},\n",
       " {'name': 'ChargeTemperature', 'variable': 'chargeTemperature', 'unit': '℃'},\n",
       " {'name': 'batTemperature', 'variable': 'batTemperature', 'unit': '℃'},\n",
       " {'name': 'DSPTemperature', 'variable': 'dspTemperature', 'unit': '℃'},\n",
       " {'name': 'Load Power', 'variable': 'loadsPower', 'unit': 'kW'},\n",
       " {'name': 'LoadsRPower', 'variable': 'loadsPowerR', 'unit': 'kW'},\n",
       " {'name': 'LoadsSPower', 'variable': 'loadsPowerS', 'unit': 'kW'},\n",
       " {'name': 'LoadsTPower', 'variable': 'loadsPowerT', 'unit': 'kW'},\n",
       " {'name': 'Output Power', 'variable': 'generationPower', 'unit': 'kW'},\n",
       " {'name': 'Feed-in Power', 'variable': 'feedinPower', 'unit': 'kW'},\n",
       " {'name': 'GridConsumption Power',\n",
       "  'variable': 'gridConsumptionPower',\n",
       "  'unit': 'kW'},\n",
       " {'name': 'InvBatVolt', 'variable': 'invBatVolt', 'unit': 'V'},\n",
       " {'name': 'InvBatCurrent', 'variable': 'invBatCurrent', 'unit': 'A'},\n",
       " {'name': 'invBatPower', 'variable': 'invBatPower', 'unit': 'kW'},\n",
       " {'name': 'Charge Power', 'variable': 'batChargePower', 'unit': 'kW'},\n",
       " {'name': 'Discharge Power', 'variable': 'batDischargePower', 'unit': 'kW'},\n",
       " {'name': 'BatVolt', 'variable': 'batVolt', 'unit': 'V'},\n",
       " {'name': 'BatCurrent', 'variable': 'batCurrent', 'unit': 'A'},\n",
       " {'name': 'MeterPower', 'variable': 'meterPower', 'unit': 'kW'},\n",
       " {'name': 'Meter2Power', 'variable': 'meterPower2', 'unit': 'kW'},\n",
       " {'name': 'MeterRPower', 'variable': 'meterPowerR', 'unit': 'kW'},\n",
       " {'name': 'MeterSPower', 'variable': 'meterPowerS', 'unit': 'kW'},\n",
       " {'name': 'MeterTPower', 'variable': 'meterPowerT', 'unit': 'kW'},\n",
       " {'name': 'SoC', 'variable': 'SoC', 'unit': '%'},\n",
       " {'name': 'ReactivePower', 'variable': 'ReactivePower', 'unit': 'kVar'},\n",
       " {'name': 'PowerFactor', 'variable': 'PowerFactor', 'unit': ''}]"
      ]
     },
     "execution_count": 14,
     "metadata": {},
     "output_type": "execute_result"
    }
   ],
   "source": [
    "f.raw_vars"
   ]
  },
  {
   "cell_type": "code",
   "execution_count": 11,
   "metadata": {},
   "outputs": [
    {
     "name": "stdout",
     "output_type": "stream",
     "text": [
      "getting battery\n"
     ]
    },
    {
     "data": {
      "text/plain": [
       "{'status': 1,\n",
       " 'soc': 77,\n",
       " 'volt': 317.9,\n",
       " 'current': 2.4,\n",
       " 'power': 0.888,\n",
       " 'residual': 10650,\n",
       " 'temperature': 32.6,\n",
       " 'timestamp': '',\n",
       " 'warning': False,\n",
       " 'descUrl': ''}"
      ]
     },
     "execution_count": 11,
     "metadata": {},
     "output_type": "execute_result"
    }
   ],
   "source": [
    "f.get_battery()"
   ]
  },
  {
   "cell_type": "code",
   "execution_count": 12,
   "metadata": {},
   "outputs": [
    {
     "name": "stdout",
     "output_type": "stream",
     "text": [
      "getting earnings\n"
     ]
    },
    {
     "data": {
      "text/plain": [
       "{'currency': 'GBP(￡)',\n",
       " 'power': 0.851,\n",
       " 'today': {'generation': 14.099999999999909, 'earnings': 2.9609999999999808},\n",
       " 'month': {'generation': 267.0999999999999, 'earnings': 56.09099999999998},\n",
       " 'year': {'generation': 3858.7, 'earnings': 810.3269999999999},\n",
       " 'cumulate': {'generation': 3858.7, 'earnings': 810.3269999999999},\n",
       " 'systemCapacity': 393216}"
      ]
     },
     "execution_count": 12,
     "metadata": {},
     "output_type": "execute_result"
    }
   ],
   "source": [
    "f.get_earnings()"
   ]
  },
  {
   "cell_type": "code",
   "execution_count": null,
   "metadata": {},
   "outputs": [],
   "source": []
  }
 ],
 "metadata": {
  "kernelspec": {
   "display_name": "Python 3 (ipykernel)",
   "language": "python",
   "name": "python3"
  },
  "language_info": {
   "codemirror_mode": {
    "name": "ipython",
    "version": 3
   },
   "file_extension": ".py",
   "mimetype": "text/x-python",
   "name": "python",
   "nbconvert_exporter": "python",
   "pygments_lexer": "ipython3",
   "version": "3.9.2"
  }
 },
 "nbformat": 4,
 "nbformat_minor": 4
}
