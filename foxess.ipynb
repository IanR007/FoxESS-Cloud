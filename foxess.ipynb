{
 "cells": [
  {
   "cell_type": "code",
   "execution_count": 1,
   "metadata": {},
   "outputs": [
    {
     "name": "stdout",
     "output_type": "stream",
     "text": [
      "loading new token\n",
      "getting device\n",
      "getting variables\n"
     ]
    },
    {
     "data": {
      "text/plain": [
       "{'deviceID': 'dcd0712d-3434-40db-9323-933288bc5964',\n",
       " 'deviceSN': '65BH602026EB004',\n",
       " 'moduleSN': '669L3EPF22WA061',\n",
       " 'plantName': '89 Okebourne Park',\n",
       " 'deviceType': 'H1-6.0-E',\n",
       " 'country': 'United Kingdom',\n",
       " 'countryCode': '',\n",
       " 'feedinDate': '2023-01-10 15:09:35 GMT+0000',\n",
       " 'status': 1,\n",
       " 'power': 1.659,\n",
       " 'generationToday': 14,\n",
       " 'generationTotal': 3695.3,\n",
       " 'productType': 'H',\n",
       " 'flowType': 2,\n",
       " 'hasBattery': True,\n",
       " 'hasPV': True,\n",
       " 'dataLatestUploadDate': '2023-08-06 14:46:07 BST+0100',\n",
       " 'hasWifiMeter': False,\n",
       " 'inParallel': 0,\n",
       " 'wifiMeterID': '',\n",
       " 'wifiMeterSN': '',\n",
       " 'atFlag': False}"
      ]
     },
     "execution_count": 1,
     "metadata": {},
     "output_type": "execute_result"
    }
   ],
   "source": [
    "import foxess as f\n",
    "f.get_device()"
   ]
  },
  {
   "cell_type": "code",
   "execution_count": 2,
   "metadata": {},
   "outputs": [
    {
     "name": "stdout",
     "output_type": "stream",
     "text": [
      "getting work mode\n"
     ]
    },
    {
     "data": {
      "text/plain": [
       "'SelfUse'"
      ]
     },
     "execution_count": 2,
     "metadata": {},
     "output_type": "execute_result"
    }
   ],
   "source": [
    "f.get_work_mode()\n",
    "#f.set_work_mode('SelfUse')"
   ]
  },
  {
   "cell_type": "code",
   "execution_count": 3,
   "metadata": {},
   "outputs": [
    {
     "name": "stdout",
     "output_type": "stream",
     "text": [
      "getting charge times\n",
      "getting min soc\n"
     ]
    },
    {
     "data": {
      "text/plain": [
       "{'times': [{'tip': '',\n",
       "   'enableCharge': True,\n",
       "   'enableGrid': False,\n",
       "   'startTime': {'hour': 0, 'minute': 0},\n",
       "   'endTime': {'hour': 0, 'minute': 0}},\n",
       "  {'tip': '',\n",
       "   'enableCharge': True,\n",
       "   'enableGrid': False,\n",
       "   'startTime': {'hour': 0, 'minute': 0},\n",
       "   'endTime': {'hour': 0, 'minute': 0}}],\n",
       " 'minSoc': 10,\n",
       " 'minGridSoc': 12}"
      ]
     },
     "execution_count": 3,
     "metadata": {},
     "output_type": "execute_result"
    }
   ],
   "source": [
    "f.get_settings()"
   ]
  },
  {
   "cell_type": "code",
   "execution_count": 7,
   "metadata": {},
   "outputs": [
    {
     "name": "stdout",
     "output_type": "stream",
     "text": [
      "generationPower      = 25.656 / 25.656 / 0.0\n",
      "feedinPower          = 6.967 / 6.967 / 0.0\n",
      "loadsPower           = 18.802 / 18.802 / 0.0\n",
      "gridConsumptionPower = 0.102 / 0.102 / 0.0\n",
      "batChargePower       = 5.606 / 5.606 / 0.0\n",
      "batDischargePower    = 9.713 / 9.713 / 0.0\n",
      "pvPower              = 24.62 / 24.62 / 0.0\n"
     ]
    }
   ],
   "source": [
    "d = '2023-06-17 00:00:00'\n",
    "result=f.get_raw('day', d=d, v=f.power_vars)\n",
    "for r in result:\n",
    "    print(f\"{r['variable']:20} = {round(r['kWh0'],3)} / {round(r['kWh1'],3)} / {round(r['kWh2'],3)}\")"
   ]
  },
  {
   "cell_type": "code",
   "execution_count": 8,
   "metadata": {},
   "outputs": [
    {
     "name": "stdout",
     "output_type": "stream",
     "text": [
      "getting report data\n",
      "generation           = 22.7\n",
      "feedin               = 6.4\n",
      "loads                = 16.4\n",
      "gridConsumption      = 0.2\n",
      "chargeEnergyToTal    = 5.3\n",
      "dischargeEnergyToTal = 8.5\n"
     ]
    }
   ],
   "source": [
    "result=f.get_report('day', d=d, v=f.report_vars)\n",
    "for r in result:\n",
    "    print(f\"{r['variable']:20} = {round(r['total'],3)}\")"
   ]
  },
  {
   "cell_type": "code",
   "execution_count": 9,
   "metadata": {},
   "outputs": [
    {
     "name": "stdout",
     "output_type": "stream",
     "text": [
      "getting report data\n",
      "generation           = 25\n",
      "feedin               = 6.8\n",
      "loads                = 18.1\n",
      "gridConsumption      = 0.2\n",
      "chargeEnergyToTal    = 5.7\n",
      "dischargeEnergyToTal = 9.2\n"
     ]
    }
   ],
   "source": [
    "result=f.get_report('month', d=d, v=f.report_vars)\n",
    "i = int(d[8:10])-1\n",
    "for r in result:\n",
    "    print(f\"{r['variable']:20} = {round(r['data'][i]['value'],3)}\")"
   ]
  },
  {
   "cell_type": "code",
   "execution_count": 10,
   "metadata": {},
   "outputs": [
    {
     "name": "stdout",
     "output_type": "stream",
     "text": [
      "getting report data\n"
     ]
    },
    {
     "data": {
      "text/plain": [
       "[{'variable': 'generation',\n",
       "  'data': [{'index': 1, 'value': 0.599999999999909},\n",
       "   {'index': 2, 'value': 0.40000000000009095},\n",
       "   {'index': 3, 'value': 0.29999999999972715},\n",
       "   {'index': 4, 'value': 0.1999999999998181},\n",
       "   {'index': 5, 'value': 0.20000000000027285},\n",
       "   {'index': 6, 'value': 0.1999999999998181},\n",
       "   {'index': 7, 'value': 0.8000000000001819},\n",
       "   {'index': 8, 'value': 0.40000000000009095},\n",
       "   {'index': 9, 'value': 0.40000000000009095},\n",
       "   {'index': 10, 'value': 1.199999999999818},\n",
       "   {'index': 11, 'value': 0.6000000000003638},\n",
       "   {'index': 12, 'value': 0.599999999999909},\n",
       "   {'index': 13, 'value': 2},\n",
       "   {'index': 14, 'value': 3},\n",
       "   {'index': 15, 'value': 2},\n",
       "   {'index': 16, 'value': 2.200000000000273},\n",
       "   {'index': 17, 'value': 2.199999999999818},\n",
       "   {'index': 18, 'value': 1.2999999999997272},\n",
       "   {'index': 19, 'value': 0.6999999999998181},\n",
       "   {'index': 20, 'value': 0.40000000000009095},\n",
       "   {'index': 21, 'value': 0.599999999999909},\n",
       "   {'index': 22, 'value': 0.6000000000003638},\n",
       "   {'index': 23, 'value': 1.400000000000091},\n",
       "   {'index': 24, 'value': 0.40000000000009095}],\n",
       "  'total': 22.7}]"
      ]
     },
     "execution_count": 10,
     "metadata": {},
     "output_type": "execute_result"
    }
   ],
   "source": [
    "f.get_report('day', d=d, v='generation')"
   ]
  },
  {
   "cell_type": "code",
   "execution_count": 11,
   "metadata": {},
   "outputs": [
    {
     "name": "stdout",
     "output_type": "stream",
     "text": [
      "getting report data\n"
     ]
    },
    {
     "data": {
      "text/plain": [
       "[{'variable': 'generation',\n",
       "  'data': [{'index': 1, 'value': 25.5},\n",
       "   {'index': 2, 'value': 27.5},\n",
       "   {'index': 3, 'value': 31.100000000000364},\n",
       "   {'index': 4, 'value': 34.59999999999991},\n",
       "   {'index': 5, 'value': 26.09999999999991},\n",
       "   {'index': 6, 'value': 13},\n",
       "   {'index': 7, 'value': 26.09999999999991},\n",
       "   {'index': 8, 'value': 33.09999999999991},\n",
       "   {'index': 9, 'value': 35.5},\n",
       "   {'index': 10, 'value': 25.200000000000273},\n",
       "   {'index': 11, 'value': 17.699999999999818},\n",
       "   {'index': 12, 'value': 24.90000000000009},\n",
       "   {'index': 13, 'value': 32.19999999999982},\n",
       "   {'index': 14, 'value': 34.90000000000009},\n",
       "   {'index': 15, 'value': 34.30000000000018},\n",
       "   {'index': 16, 'value': 24.90000000000009},\n",
       "   {'index': 17, 'value': 25},\n",
       "   {'index': 18, 'value': 16.299999999999727},\n",
       "   {'index': 19, 'value': 29.699999999999818},\n",
       "   {'index': 20, 'value': 14.400000000000091},\n",
       "   {'index': 21, 'value': 27.5},\n",
       "   {'index': 22, 'value': 22.90000000000009},\n",
       "   {'index': 23, 'value': 31.199999999999818},\n",
       "   {'index': 24, 'value': 27.300000000000182},\n",
       "   {'index': 25, 'value': 32.29999999999973},\n",
       "   {'index': 26, 'value': 25.100000000000364},\n",
       "   {'index': 27, 'value': 15},\n",
       "   {'index': 28, 'value': 16.699999999999818},\n",
       "   {'index': 29, 'value': 27.90000000000009},\n",
       "   {'index': 30, 'value': 15.199999999999818}],\n",
       "  'total': 773.1}]"
      ]
     },
     "execution_count": 11,
     "metadata": {},
     "output_type": "execute_result"
    }
   ],
   "source": [
    "f.get_report('month', d=d, v='generation')"
   ]
  },
  {
   "cell_type": "code",
   "execution_count": 12,
   "metadata": {},
   "outputs": [
    {
     "name": "stdout",
     "output_type": "stream",
     "text": [
      "getting report data\n"
     ]
    },
    {
     "data": {
      "text/plain": [
       "[{'variable': 'generation',\n",
       "  'data': [{'index': 1, 'value': 87.89999999999999},\n",
       "   {'index': 2, 'value': 246.3},\n",
       "   {'index': 3, 'value': 464.0000000000002},\n",
       "   {'index': 4, 'value': 625.0000000000003},\n",
       "   {'index': 5, 'value': 740.9999999999995},\n",
       "   {'index': 6, 'value': 773.0999999999999},\n",
       "   {'index': 7, 'value': 618.2000000000003},\n",
       "   {'index': 8, 'value': 103.90000000000009},\n",
       "   {'index': 9, 'value': 0},\n",
       "   {'index': 10, 'value': 0},\n",
       "   {'index': 11, 'value': 0},\n",
       "   {'index': 12, 'value': 0}],\n",
       "  'total': 3659.4}]"
      ]
     },
     "execution_count": 12,
     "metadata": {},
     "output_type": "execute_result"
    }
   ],
   "source": [
    "f.get_report('year', d=d, v='generation')"
   ]
  },
  {
   "cell_type": "code",
   "execution_count": 13,
   "metadata": {},
   "outputs": [
    {
     "name": "stdout",
     "output_type": "stream",
     "text": [
      "getting firmware\n"
     ]
    },
    {
     "data": {
      "text/plain": [
       "{'master': '1.54', 'slave': '1.02', 'manager': '1.57', 'afci': ''}"
      ]
     },
     "execution_count": 13,
     "metadata": {},
     "output_type": "execute_result"
    }
   ],
   "source": [
    "f.get_firmware()"
   ]
  },
  {
   "cell_type": "code",
   "execution_count": 14,
   "metadata": {},
   "outputs": [
    {
     "data": {
      "text/plain": [
       "[{'name': 'PV1Volt', 'variable': 'pv1Volt', 'unit': 'V'},\n",
       " {'name': 'PV1Current', 'variable': 'pv1Current', 'unit': 'A'},\n",
       " {'name': 'PV1Power', 'variable': 'pv1Power', 'unit': 'kW'},\n",
       " {'name': 'PVPower', 'variable': 'pvPower', 'unit': 'kW'},\n",
       " {'name': 'PV2Volt', 'variable': 'pv2Volt', 'unit': 'V'},\n",
       " {'name': 'PV2Current', 'variable': 'pv2Current', 'unit': 'A'},\n",
       " {'name': 'PV2Power', 'variable': 'pv2Power', 'unit': 'kW'},\n",
       " {'name': 'PV3Volt', 'variable': 'pv3Volt', 'unit': 'V'},\n",
       " {'name': 'PV3Current', 'variable': 'pv3Current', 'unit': 'A'},\n",
       " {'name': 'PV3Power', 'variable': 'pv3Power', 'unit': 'kW'},\n",
       " {'name': 'PV4Volt', 'variable': 'pv4Volt', 'unit': 'V'},\n",
       " {'name': 'PV4Current', 'variable': 'pv4Current', 'unit': 'A'},\n",
       " {'name': 'PV4Power', 'variable': 'pv4Power', 'unit': 'kW'},\n",
       " {'name': 'EPSPower', 'variable': 'epsPower', 'unit': 'kW'},\n",
       " {'name': 'EPS-RCurrent', 'variable': 'epsCurrentR', 'unit': 'A'},\n",
       " {'name': 'EPS-RVolt', 'variable': 'epsVoltR', 'unit': 'V'},\n",
       " {'name': 'EPS-RPower', 'variable': 'epsPowerR', 'unit': 'kW'},\n",
       " {'name': 'EPS-SCurrent', 'variable': 'epsCurrentS', 'unit': 'A'},\n",
       " {'name': 'EPS-SVolt', 'variable': 'epsVoltS', 'unit': 'V'},\n",
       " {'name': 'EPS-SPower', 'variable': 'epsPowerS', 'unit': 'kW'},\n",
       " {'name': 'EPS-TCurrent', 'variable': 'epsCurrentT', 'unit': 'A'},\n",
       " {'name': 'EPS-TVolt', 'variable': 'epsVoltT', 'unit': 'V'},\n",
       " {'name': 'EPS-TPower', 'variable': 'epsPowerT', 'unit': 'kW'},\n",
       " {'name': 'RCurrent', 'variable': 'RCurrent', 'unit': 'A'},\n",
       " {'name': 'RVolt', 'variable': 'RVolt', 'unit': 'V'},\n",
       " {'name': 'RFreq', 'variable': 'RFreq', 'unit': 'Hz'},\n",
       " {'name': 'RPower', 'variable': 'RPower', 'unit': 'kW'},\n",
       " {'name': 'SCurrent', 'variable': 'SCurrent', 'unit': 'A'},\n",
       " {'name': 'SVolt', 'variable': 'SVolt', 'unit': 'V'},\n",
       " {'name': 'SFreq', 'variable': 'SFreq', 'unit': 'Hz'},\n",
       " {'name': 'SPower', 'variable': 'SPower', 'unit': 'kW'},\n",
       " {'name': 'TCurrent', 'variable': 'TCurrent', 'unit': 'A'},\n",
       " {'name': 'TVolt', 'variable': 'TVolt', 'unit': 'V'},\n",
       " {'name': 'TFreq', 'variable': 'TFreq', 'unit': 'Hz'},\n",
       " {'name': 'TPower', 'variable': 'TPower', 'unit': 'kW'},\n",
       " {'name': 'AmbientTemperature', 'variable': 'ambientTemperation', 'unit': '℃'},\n",
       " {'name': 'BoostTemperature', 'variable': 'boostTemperation', 'unit': '℃'},\n",
       " {'name': 'InvTemperation', 'variable': 'invTemperation', 'unit': '℃'},\n",
       " {'name': 'ChargeTemperature', 'variable': 'chargeTemperature', 'unit': '℃'},\n",
       " {'name': 'batTemperature', 'variable': 'batTemperature', 'unit': '℃'},\n",
       " {'name': 'DSPTemperature', 'variable': 'dspTemperature', 'unit': '℃'},\n",
       " {'name': 'Load Power', 'variable': 'loadsPower', 'unit': 'kW'},\n",
       " {'name': 'LoadsRPower', 'variable': 'loadsPowerR', 'unit': 'kW'},\n",
       " {'name': 'LoadsSPower', 'variable': 'loadsPowerS', 'unit': 'kW'},\n",
       " {'name': 'LoadsTPower', 'variable': 'loadsPowerT', 'unit': 'kW'},\n",
       " {'name': 'Output Power', 'variable': 'generationPower', 'unit': 'kW'},\n",
       " {'name': 'Feed-in Power', 'variable': 'feedinPower', 'unit': 'kW'},\n",
       " {'name': 'GridConsumption Power',\n",
       "  'variable': 'gridConsumptionPower',\n",
       "  'unit': 'kW'},\n",
       " {'name': 'InvBatVolt', 'variable': 'invBatVolt', 'unit': 'V'},\n",
       " {'name': 'InvBatCurrent', 'variable': 'invBatCurrent', 'unit': 'A'},\n",
       " {'name': 'invBatPower', 'variable': 'invBatPower', 'unit': 'kW'},\n",
       " {'name': 'Charge Power', 'variable': 'batChargePower', 'unit': 'kW'},\n",
       " {'name': 'Discharge Power', 'variable': 'batDischargePower', 'unit': 'kW'},\n",
       " {'name': 'BatVolt', 'variable': 'batVolt', 'unit': 'V'},\n",
       " {'name': 'BatCurrent', 'variable': 'batCurrent', 'unit': 'A'},\n",
       " {'name': 'MeterPower', 'variable': 'meterPower', 'unit': 'kW'},\n",
       " {'name': 'Meter2Power', 'variable': 'meterPower2', 'unit': 'kW'},\n",
       " {'name': 'MeterRPower', 'variable': 'meterPowerR', 'unit': 'kW'},\n",
       " {'name': 'MeterSPower', 'variable': 'meterPowerS', 'unit': 'kW'},\n",
       " {'name': 'MeterTPower', 'variable': 'meterPowerT', 'unit': 'kW'},\n",
       " {'name': 'SoC', 'variable': 'SoC', 'unit': '%'},\n",
       " {'name': 'ReactivePower', 'variable': 'ReactivePower', 'unit': 'kVar'},\n",
       " {'name': 'PowerFactor', 'variable': 'PowerFactor', 'unit': ''}]"
      ]
     },
     "execution_count": 14,
     "metadata": {},
     "output_type": "execute_result"
    }
   ],
   "source": [
    "f.raw_vars"
   ]
  },
  {
   "cell_type": "code",
   "execution_count": 15,
   "metadata": {},
   "outputs": [
    {
     "name": "stdout",
     "output_type": "stream",
     "text": [
      "getting battery\n"
     ]
    },
    {
     "data": {
      "text/plain": [
       "{'status': 1,\n",
       " 'soc': 100,\n",
       " 'volt': 319.8,\n",
       " 'current': 0,\n",
       " 'power': 0.058,\n",
       " 'residual': 13730,\n",
       " 'temperature': 31.9,\n",
       " 'timestamp': '',\n",
       " 'warning': False,\n",
       " 'descUrl': ''}"
      ]
     },
     "execution_count": 15,
     "metadata": {},
     "output_type": "execute_result"
    }
   ],
   "source": [
    "f.get_battery()"
   ]
  },
  {
   "cell_type": "code",
   "execution_count": 16,
   "metadata": {},
   "outputs": [
    {
     "name": "stdout",
     "output_type": "stream",
     "text": [
      "getting earnings\n"
     ]
    },
    {
     "data": {
      "text/plain": [
       "{'currency': 'GBP(￡)',\n",
       " 'power': 2.569,\n",
       " 'today': {'generation': 14.199999999999818, 'earnings': 2.9819999999999616},\n",
       " 'month': {'generation': 103.90000000000009, 'earnings': 21.819000000000017},\n",
       " 'year': {'generation': 3695.5, 'earnings': 776.055},\n",
       " 'cumulate': {'generation': 3695.5, 'earnings': 776.055},\n",
       " 'systemCapacity': 393216}"
      ]
     },
     "execution_count": 16,
     "metadata": {},
     "output_type": "execute_result"
    }
   ],
   "source": [
    "f.get_earnings()"
   ]
  },
  {
   "cell_type": "code",
   "execution_count": 17,
   "metadata": {},
   "outputs": [
    {
     "name": "stdout",
     "output_type": "stream",
     "text": [
      "2023-06-01, 23977,11803,14226,805\n",
      "2023-06-02, 30768,8954,19523,917\n",
      "2023-06-03, 33600,18623,13658,698\n",
      "2023-06-04, 37868,23367,11722,773\n",
      "2023-06-05, 24586,11791,12966,190\n",
      "2023-06-06, 13944,967,11923,248\n",
      "2023-06-07, 28966,10697,15441,249\n",
      "2023-06-08, 37340,20900,12342,179\n",
      "2023-06-09, 34698,17773,17221,469\n",
      "2023-06-10, 26748,12164,12940,186\n",
      "2023-06-11, 18534,4034,13989,104\n",
      "2023-06-12, 28786,8597,18188,764\n",
      "2023-06-13, 35750,16091,16633,142\n",
      "2023-06-14, 34985,18221,16318,115\n",
      "2023-06-15, 37136,18612,16043,178\n",
      "2023-06-16, 30085,12668,11988,171\n",
      "2023-06-17, 24620,6967,18802,102\n",
      "2023-06-18, 18228,4193,12172,111\n",
      "2023-06-19, 32115,15142,15554,85\n",
      "2023-06-20, 16926,4722,10258,175\n",
      "2023-06-21, 27944,13103,14090,102\n",
      "2023-06-22, 25336,8348,14461,86\n",
      "2023-06-23, 32436,17619,13923,151\n",
      "2023-06-24, 30815,14284,13221,84\n",
      "2023-06-25, 33210,17534,15593,94\n",
      "2023-06-26, 26178,7849,17396,93\n",
      "2023-06-27, 13095,1002,13429,124\n",
      "2023-06-28, 13156,4207,15739,11071\n",
      "2023-06-29, 29299,12426,16372,377\n",
      "2023-06-30, 13054,437,14774,239\n"
     ]
    }
   ],
   "source": [
    "import foxess as f\n",
    "f.get_device()\n",
    "f.get_pvoutput('2023-06-01', 30)"
   ]
  },
  {
   "cell_type": "code",
   "execution_count": null,
   "metadata": {},
   "outputs": [],
   "source": []
  }
 ],
 "metadata": {
  "kernelspec": {
   "display_name": "Python 3 (ipykernel)",
   "language": "python",
   "name": "python3"
  },
  "language_info": {
   "codemirror_mode": {
    "name": "ipython",
    "version": 3
   },
   "file_extension": ".py",
   "mimetype": "text/x-python",
   "name": "python",
   "nbconvert_exporter": "python",
   "pygments_lexer": "ipython3",
   "version": "3.9.2"
  }
 },
 "nbformat": 4,
 "nbformat_minor": 4
}
